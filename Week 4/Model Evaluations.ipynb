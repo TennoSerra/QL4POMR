{
 "cells": [
  {
   "cell_type": "code",
   "execution_count": 1,
   "id": "bff27d7e-90b6-44f0-91aa-9f9f31ece43a",
   "metadata": {},
   "outputs": [
    {
     "name": "stdout",
     "output_type": "stream",
     "text": [
      "You already have 3.11, nothing to install\n"
     ]
    }
   ],
   "source": [
    "#@title 1. Install and set up Python 3.11 {display-mode: \"form\"}\n",
    "# Credits to JanEricNitschke in https://github.com/pnxenopoulos/awpy/issues/248#issuecomment-1575170156\n",
    "\n",
    "#The code below installs 3.11 (assuming you now have 3.10) and restarts environment, so you can run your cells.\n",
    "import sys #for version checker\n",
    "import os #for restart routine\n",
    "\n",
    "if '3.11' in sys.version:\n",
    "  print('You already have 3.11, nothing to install')\n",
    "elif '3.10' in sys.version:\n",
    "  print(\"Python version is: \", sys.version)\n",
    "\n",
    "  print(\"Printing content of /usr/local/lib/python* to see available versions\")\n",
    "  !ls /usr/local/lib/python*\n",
    "\n",
    "  #install python 3.11 and dev utils\n",
    "  #you may not need all the dev libraries, but I haven't tested which aren't necessary.\n",
    "  !sudo apt-get update -y > /dev/null\n",
    "  !sudo apt-get install python3.11 python3.11-dev python3.11-distutils libpython3.11-dev > /dev/null\n",
    "  !sudo apt-get install python3.11-venv binfmt-support  > /dev/null #recommended in install logs of the command above\n",
    "\n",
    "  #change alternatives\n",
    "  !sudo update-alternatives --install /usr/bin/python3 python3 /usr/bin/python3.10 1 > /dev/null\n",
    "  !sudo update-alternatives --install /usr/bin/python3 python3 /usr/bin/python3.11 2 > /dev/null\n",
    "\n",
    "  # install pip\n",
    "  !curl -sS https://bootstrap.pypa.io/get-pip.py | python3.11  > /dev/null\n",
    "\n",
    "  #install colab's dependencies\n",
    "  !python3 -m pip install ipython==7.9.0 traitlets==5.7.1 jupyter psutil matplotlib setuptools ipython_genutils ipykernel jupyter_console notebook prompt_toolkit httplib2 astor  > /dev/null\n",
    "\n",
    "  #minor cleanup\n",
    "  !sudo apt autoremove > /dev/null\n",
    "\n",
    "  #link to the old google package\n",
    "  !ln -s /usr/local/lib/python3.10/dist-packages/google /usr/local/lib/python3.11/dist-packages/google > /dev/null\n",
    "\n",
    "  #this is just to verify if 3.11 folder was indeed created\n",
    "  print(\"Printing content of /usr/local/lib/python3.11/\")\n",
    "  !ls /usr/local/lib/python3.11/\n",
    "\n",
    "  #restart environment so you don't have to do it manually\n",
    "  os.kill(os.getpid(), 9)\n",
    "else:\n",
    "  print(\"Your out of the box Python is not 3.10, so probably the script will not work, so pls feel free to edit the script to ignore then check and re-run: \", sys.version)\n",
    "     "
   ]
  },
  {
   "cell_type": "code",
   "execution_count": 2,
   "id": "fd932508-da85-4d11-a4ea-dea98b86dd65",
   "metadata": {},
   "outputs": [
    {
     "name": "stdout",
     "output_type": "stream",
     "text": [
      "G:\\USER\\Documents\\GitHub\\QL4POMR\\Week 4\\text-to-image-eval\n"
     ]
    },
    {
     "name": "stderr",
     "output_type": "stream",
     "text": [
      "G:\\anaconda3\\envs\\ModeEval\\Lib\\site-packages\\IPython\\core\\magics\\osm.py:417: UserWarning: This is now an optional IPython functionality, setting dhist requires you to install the `pickleshare` library.\n",
      "  self.shell.db['dhist'] = compress_dhist(dhist)[-100:]\n"
     ]
    },
    {
     "name": "stdout",
     "output_type": "stream",
     "text": [
      "Requirement already satisfied: poetry in g:\\anaconda3\\envs\\modeeval\\lib\\site-packages (1.8.3)\n",
      "Requirement already satisfied: build<2.0.0,>=1.0.3 in g:\\anaconda3\\envs\\modeeval\\lib\\site-packages (from poetry) (1.2.1)\n",
      "Requirement already satisfied: cachecontrol<0.15.0,>=0.14.0 in g:\\anaconda3\\envs\\modeeval\\lib\\site-packages (from cachecontrol[filecache]<0.15.0,>=0.14.0->poetry) (0.14.0)\n",
      "Requirement already satisfied: cleo<3.0.0,>=2.1.0 in g:\\anaconda3\\envs\\modeeval\\lib\\site-packages (from poetry) (2.1.0)\n",
      "Requirement already satisfied: crashtest<0.5.0,>=0.4.1 in g:\\anaconda3\\envs\\modeeval\\lib\\site-packages (from poetry) (0.4.1)\n",
      "Requirement already satisfied: dulwich<0.22.0,>=0.21.2 in g:\\anaconda3\\envs\\modeeval\\lib\\site-packages (from poetry) (0.21.7)\n",
      "Requirement already satisfied: fastjsonschema<3.0.0,>=2.18.0 in g:\\anaconda3\\envs\\modeeval\\lib\\site-packages (from poetry) (2.20.0)\n",
      "Requirement already satisfied: installer<0.8.0,>=0.7.0 in g:\\anaconda3\\envs\\modeeval\\lib\\site-packages (from poetry) (0.7.0)\n",
      "Requirement already satisfied: keyring<25.0.0,>=24.0.0 in g:\\anaconda3\\envs\\modeeval\\lib\\site-packages (from poetry) (24.3.1)\n",
      "Requirement already satisfied: packaging>=23.1 in g:\\anaconda3\\envs\\modeeval\\lib\\site-packages (from poetry) (24.1)\n",
      "Requirement already satisfied: pexpect<5.0.0,>=4.7.0 in g:\\anaconda3\\envs\\modeeval\\lib\\site-packages (from poetry) (4.9.0)\n",
      "Requirement already satisfied: pkginfo<2.0,>=1.10 in g:\\anaconda3\\envs\\modeeval\\lib\\site-packages (from poetry) (1.11.1)\n",
      "Requirement already satisfied: platformdirs<5,>=3.0.0 in g:\\anaconda3\\envs\\modeeval\\lib\\site-packages (from poetry) (4.2.2)\n",
      "Requirement already satisfied: poetry-core==1.9.0 in g:\\anaconda3\\envs\\modeeval\\lib\\site-packages (from poetry) (1.9.0)\n",
      "Requirement already satisfied: poetry-plugin-export<2.0.0,>=1.6.0 in g:\\anaconda3\\envs\\modeeval\\lib\\site-packages (from poetry) (1.8.0)\n",
      "Requirement already satisfied: pyproject-hooks<2.0.0,>=1.0.0 in g:\\anaconda3\\envs\\modeeval\\lib\\site-packages (from poetry) (1.1.0)\n",
      "Requirement already satisfied: requests<3.0,>=2.26 in g:\\anaconda3\\envs\\modeeval\\lib\\site-packages (from poetry) (2.32.3)\n",
      "Requirement already satisfied: requests-toolbelt<2.0.0,>=1.0.0 in g:\\anaconda3\\envs\\modeeval\\lib\\site-packages (from poetry) (1.0.0)\n",
      "Requirement already satisfied: shellingham<2.0,>=1.5 in g:\\anaconda3\\envs\\modeeval\\lib\\site-packages (from poetry) (1.5.4)\n",
      "Requirement already satisfied: tomlkit<1.0.0,>=0.11.4 in g:\\anaconda3\\envs\\modeeval\\lib\\site-packages (from poetry) (0.12.5)\n",
      "Requirement already satisfied: trove-classifiers>=2022.5.19 in g:\\anaconda3\\envs\\modeeval\\lib\\site-packages (from poetry) (2024.7.2)\n",
      "Requirement already satisfied: virtualenv<21.0.0,>=20.23.0 in g:\\anaconda3\\envs\\modeeval\\lib\\site-packages (from poetry) (20.26.3)\n",
      "Requirement already satisfied: colorama in g:\\anaconda3\\envs\\modeeval\\lib\\site-packages (from build<2.0.0,>=1.0.3->poetry) (0.4.6)\n",
      "Requirement already satisfied: msgpack<2.0.0,>=0.5.2 in g:\\anaconda3\\envs\\modeeval\\lib\\site-packages (from cachecontrol<0.15.0,>=0.14.0->cachecontrol[filecache]<0.15.0,>=0.14.0->poetry) (1.0.8)\n",
      "Requirement already satisfied: filelock>=3.8.0 in g:\\anaconda3\\envs\\modeeval\\lib\\site-packages (from cachecontrol[filecache]<0.15.0,>=0.14.0->poetry) (3.15.4)\n",
      "Requirement already satisfied: rapidfuzz<4.0.0,>=3.0.0 in g:\\anaconda3\\envs\\modeeval\\lib\\site-packages (from cleo<3.0.0,>=2.1.0->poetry) (3.9.4)\n",
      "Requirement already satisfied: urllib3>=1.25 in g:\\anaconda3\\envs\\modeeval\\lib\\site-packages (from dulwich<0.22.0,>=0.21.2->poetry) (2.2.2)\n",
      "Requirement already satisfied: jaraco.classes in g:\\anaconda3\\envs\\modeeval\\lib\\site-packages (from keyring<25.0.0,>=24.0.0->poetry) (3.4.0)\n",
      "Requirement already satisfied: importlib-metadata>=4.11.4 in g:\\anaconda3\\envs\\modeeval\\lib\\site-packages (from keyring<25.0.0,>=24.0.0->poetry) (7.1.0)\n",
      "Requirement already satisfied: pywin32-ctypes>=0.2.0 in g:\\anaconda3\\envs\\modeeval\\lib\\site-packages (from keyring<25.0.0,>=24.0.0->poetry) (0.2.2)\n",
      "Requirement already satisfied: ptyprocess>=0.5 in g:\\anaconda3\\envs\\modeeval\\lib\\site-packages (from pexpect<5.0.0,>=4.7.0->poetry) (0.7.0)\n",
      "Requirement already satisfied: charset-normalizer<4,>=2 in g:\\anaconda3\\envs\\modeeval\\lib\\site-packages (from requests<3.0,>=2.26->poetry) (3.3.2)\n",
      "Requirement already satisfied: idna<4,>=2.5 in g:\\anaconda3\\envs\\modeeval\\lib\\site-packages (from requests<3.0,>=2.26->poetry) (3.7)\n",
      "Requirement already satisfied: certifi>=2017.4.17 in g:\\anaconda3\\envs\\modeeval\\lib\\site-packages (from requests<3.0,>=2.26->poetry) (2024.6.2)\n",
      "Requirement already satisfied: distlib<1,>=0.3.7 in g:\\anaconda3\\envs\\modeeval\\lib\\site-packages (from virtualenv<21.0.0,>=20.23.0->poetry) (0.3.8)\n",
      "Requirement already satisfied: zipp>=0.5 in g:\\anaconda3\\envs\\modeeval\\lib\\site-packages (from importlib-metadata>=4.11.4->keyring<25.0.0,>=24.0.0->poetry) (3.19.2)\n",
      "Requirement already satisfied: more-itertools in g:\\anaconda3\\envs\\modeeval\\lib\\site-packages (from jaraco.classes->keyring<25.0.0,>=24.0.0->poetry) (10.3.0)\n"
     ]
    },
    {
     "name": "stderr",
     "output_type": "stream",
     "text": [
      "\n",
      "You can only pass one value.\n"
     ]
    },
    {
     "name": "stdout",
     "output_type": "stream",
     "text": [
      "Using version ^6.29.5 for ipykernel\n"
     ]
    },
    {
     "name": "stderr",
     "output_type": "stream",
     "text": [
      "\n",
      "'files'\n"
     ]
    },
    {
     "name": "stdout",
     "output_type": "stream",
     "text": [
      "Installing dependencies from lock file\n",
      "\n",
      "Package operations: 0 installs, 4 updates, 0 removals\n",
      "\n",
      "  - Updating idna (3.7 C:/b/abs_aad84bnnw5/croot/idna_1714398896795/work -> 3.7)\n",
      "  - Updating tokenizers (0.15.2 -> 0.19.1)\n",
      "  - Updating open-clip-torch (2.23.0 -> 2.24.0)\n",
      "  - Updating transformers (4.35.2 -> 4.42.3)\n",
      "\n",
      "Installing the current project: tti-eval (0.1.0)\n"
     ]
    }
   ],
   "source": [
    "#@title 3. Install repo dependencies\n",
    "%cd ../Week 4/text-to-image-eval\n",
    "!pip install poetry\n",
    "!poetry config virtualenvs.in-project true # Configure Poetry to create virtual environments in the project folder\n",
    "!poetry add ipykernel # Resolve Colab specific missing dependency\n",
    "!poetry install --no-ansi\n",
    "\n",
    "sys.path.insert(0, '/Week 4/text-to-image-eval/.venv/lib/python3.11/site-packages')"
   ]
  },
  {
   "cell_type": "code",
   "execution_count": 3,
   "id": "94309e95-c459-48d2-bf4c-8b7247d75df9",
   "metadata": {
    "scrolled": true
   },
   "outputs": [
    {
     "name": "stdout",
     "output_type": "stream",
     "text": [
      "Available datasets are: Alzheimer-MRI, chest-xray-classification, LungCancer4Types, plants, rsicd, skin-cancer, sports-classification\n",
      "Available models are: apple, bioclip, biomedclip-pubmedbert, biomedclip-pubmedbert-chuhac, clip, clipmd, eva-clip, fashion, m3d-clip, medclip, plip, pubmed, rsicd, rsicd-encord, siglip_large, siglip_small, street, tinyclip, vit-b-32-laion2b\n"
     ]
    }
   ],
   "source": [
    "!poetry run tti-eval list --all"
   ]
  },
  {
   "cell_type": "markdown",
   "id": "261a1566-2444-4152-8f2b-ee21c4b4e3b8",
   "metadata": {},
   "source": [
    "\tPubmed CLIP: \r\n",
    "\thttps://huggingface.co/flaviagiammarino/pubmed-clip-vit-base-patch32\r\n",
    "\tClipMD: https://huggingface.co/Idan0405/ClipMD\r\n",
    "\tMedCLIP: https://discuss.huggingface.co/t/medclip-pretraining-clip-on-medical-data/7316\r\n",
    "\tM3D-CLIP: https://huggingface.co/GoodBaiBai88/M3D-CLIP\r\n",
    "\tBiomedCLIP-PubMedBERT: https://huggingface.co/microsoft/BiomedCLIP-PubMedBERT_256-vit_base_patch16_224\r\n",
    "\tBioCLIP: https://huggingface.co/imageomics/bi\n",
    "Alzheimer\n",
    "Chest ray\n",
    "Lung cancer \n",
    "Skin cancer\n",
    "oclip\r\n"
   ]
  },
  {
   "cell_type": "markdown",
   "id": "ba565037-3fe1-4924-803d-10a05a413874",
   "metadata": {},
   "source": [
    "Training: \n",
    "\n",
    "These are all the training commands, commented out so we dont re-train every time."
   ]
  },
  {
   "cell_type": "markdown",
   "id": "c8040736-19e9-434b-a0ff-c63e2273b682",
   "metadata": {},
   "source": [
    "!poetry run tti-eval build --model-dataset pubmed/Alzheimer-MRI "
   ]
  },
  {
   "cell_type": "markdown",
   "id": "c1b86bf5-b8d9-4a91-9665-49d256c03512",
   "metadata": {},
   "source": [
    "!poetry run tti-eval build --model-dataset clipmd/Alzheimer-MRI "
   ]
  },
  {
   "cell_type": "markdown",
   "id": "97f2ae65-2989-4e27-a801-5d4cd222275e",
   "metadata": {},
   "source": [
    "This one is not supported by tti eval \n",
    "\n",
    "!poetry run tti-eval build --model-dataset medclip/Alzheimer-MRI "
   ]
  },
  {
   "cell_type": "markdown",
   "id": "d0629b45-9523-49f7-ab50-176fe268378a",
   "metadata": {},
   "source": [
    "This one is not supported by tti eval \n",
    "\n",
    "!poetry run tti-eval build --model-dataset m3d-clip/Alzheimer-MRI "
   ]
  },
  {
   "cell_type": "markdown",
   "id": "9f3d31a7-25f8-41e2-9ef6-e58eb9bde8c3",
   "metadata": {},
   "source": [
    "!poetry run tti-eval build --model-dataset biomedclip-pubmedbert-chuhac/Alzheimer-MRI "
   ]
  },
  {
   "cell_type": "markdown",
   "id": "03e9c753-8f60-4a30-88d8-83cc0fda621e",
   "metadata": {},
   "source": [
    "!poetry run tti-eval build --model-dataset bioclip/Alzheimer-MRI "
   ]
  },
  {
   "cell_type": "markdown",
   "id": "171fe4b9-36b6-48ed-a4fc-b73605ca16ef",
   "metadata": {},
   "source": [
    "!poetry run tti-eval build --model-dataset pubmed/chest-xray-classification"
   ]
  },
  {
   "cell_type": "markdown",
   "id": "0726b29a-b7ac-4b3e-b82d-bc7b3be034a9",
   "metadata": {},
   "source": [
    "!poetry run tti-eval build --model-dataset pubmed/skin-cancer"
   ]
  },
  {
   "cell_type": "markdown",
   "id": "6196ea0c-0302-4170-b608-7204155d311d",
   "metadata": {},
   "source": [
    "!poetry run tti-eval build --model-dataset pubmed/LungCancer4Types"
   ]
  },
  {
   "cell_type": "markdown",
   "id": "1023be9b-2985-41b7-9336-38f564895e63",
   "metadata": {},
   "source": [
    "!poetry run tti-eval build --model-dataset clipmd/chest-xray-classification"
   ]
  },
  {
   "cell_type": "markdown",
   "id": "8a55bd62-9c57-4a94-9192-3a97d652eb74",
   "metadata": {},
   "source": [
    "!poetry run tti-eval build --model-dataset clipmd/skin-cancer"
   ]
  },
  {
   "cell_type": "markdown",
   "id": "f7b70c62-bf85-477e-aa05-ceb065bdc86d",
   "metadata": {},
   "source": [
    "!poetry run tti-eval build --model-dataset clipmd/LungCancer4Types"
   ]
  },
  {
   "cell_type": "markdown",
   "id": "bba4ffe0-873f-477b-b70a-c85da95952e4",
   "metadata": {},
   "source": [
    "!poetry run tti-eval build --model-dataset biomedclip-pubmedbert-chuhac/chest-xray-classification"
   ]
  },
  {
   "cell_type": "markdown",
   "id": "4c0cb498-3317-4c0b-ad5f-87281b3f4354",
   "metadata": {},
   "source": [
    "!poetry run tti-eval build --model-dataset biomedclip-pubmedbert-chuhac/skin-cancer"
   ]
  },
  {
   "cell_type": "markdown",
   "id": "5b100e4f-8bf6-45cb-beb7-443f29b4b23d",
   "metadata": {},
   "source": [
    "!poetry run tti-eval build --model-dataset biomedclip-pubmedbert-chuhac/LungCancer4Types"
   ]
  },
  {
   "cell_type": "markdown",
   "id": "b729d2eb-ad4b-4436-917d-f224e2f218a6",
   "metadata": {},
   "source": [
    "!poetry run tti-eval build --model-dataset bioclip/chest-xray-classification"
   ]
  },
  {
   "cell_type": "markdown",
   "id": "a0c69056-f941-46e7-a6b5-b76a59646d1c",
   "metadata": {},
   "source": [
    "!poetry run tti-eval build --model-dataset bioclip/skin-cancer"
   ]
  },
  {
   "cell_type": "markdown",
   "id": "eb99ec2d-da22-4ef6-8df4-7bf8fa190a50",
   "metadata": {},
   "source": [
    "!poetry run tti-eval build --model-dataset bioclip/LungCancer4Types"
   ]
  },
  {
   "cell_type": "markdown",
   "id": "6c465b68-96d3-42a5-b513-81d6c34a5c10",
   "metadata": {},
   "source": [
    "Evaluations:"
   ]
  },
  {
   "cell_type": "code",
   "execution_count": 4,
   "id": "39f66ace-ab96-4081-909e-a1f1d9b59d5c",
   "metadata": {},
   "outputs": [],
   "source": [
    "raw_data = !poetry run tti-eval evaluate \\\n",
    "  --model-dataset pubmed/Alzheimer-MRI \\\n",
    "  --model-dataset clipmd/Alzheimer-MRI \\\n",
    "  --model-dataset biomedclip-pubmedbert-chuhac/Alzheimer-MRI \\\n",
    "  --model-dataset bioclip/Alzheimer-MRI \\\n",
    "  --model-dataset pubmed/chest-xray-classification \\\n",
    "  --model-dataset clipmd/chest-xray-classification \\\n",
    "  --model-dataset biomedclip-pubmedbert-chuhac/chest-xray-classification \\\n",
    "  --model-dataset bioclip/chest-xray-classification \\\n",
    "  --model-dataset pubmed/LungCancer4Types \\\n",
    "  --model-dataset clipmd/LungCancer4Types \\\n",
    "  --model-dataset biomedclip-pubmedbert-chuhac/LungCancer4Types \\\n",
    "  --model-dataset bioclip/LungCancer4Types \\\n",
    "  --model-dataset pubmed/skin-cancer \\\n",
    "  --model-dataset clipmd/skin-cancer \\\n",
    "  --model-dataset biomedclip-pubmedbert-chuhac/skin-cancer \\\n",
    "  --model-dataset bioclip/skin-cancer"
   ]
  },
  {
   "cell_type": "code",
   "execution_count": 5,
   "id": "4db903a7-8160-48a0-b703-b08b6b3f03f6",
   "metadata": {},
   "outputs": [
    {
     "name": "stdout",
     "output_type": "stream",
     "text": [
      "CSV files created or updated successfully in the specified directory.\n"
     ]
    }
   ],
   "source": [
    "import re\n",
    "import csv\n",
    "import os\n",
    "# Extract data sections\n",
    "sections = {\n",
    "    'zero_shot': [],\n",
    "    'linear_probe': [],\n",
    "    'wKNN': [],\n",
    "    'I2IR': []\n",
    "}\n",
    "\n",
    "current_section = None\n",
    "for line in raw_data:\n",
    "    if '===== zero_shot =====' in line:\n",
    "        current_section = 'zero_shot'\n",
    "    elif '===== linear_probe =====' in line:\n",
    "        current_section = 'linear_probe'\n",
    "    elif '===== wKNN =====' in line:\n",
    "        current_section = 'wKNN'\n",
    "    elif '===== I2IR =====' in line:\n",
    "        current_section = 'I2IR'\n",
    "    elif current_section and (line.startswith('Model/Dataset') or line.startswith('----------------------------') or re.match(r'^\\w', line)):\n",
    "        sections[current_section].append(line)\n",
    "\n",
    "# Define the directory to save CSV files\n",
    "output_dir = '../Model Evaluations'  # Adjust this path as per your setup\n",
    "\n",
    "# Ensure the directory exists; create if it doesn't\n",
    "os.makedirs(output_dir, exist_ok=True)\n",
    "\n",
    "# Write data to CSV files\n",
    "for section, data in sections.items():\n",
    "    if data:\n",
    "        filename = os.path.join(output_dir, f'{section}.csv')\n",
    "        # Open the file in write mode ('w') with newline='' to manage line endings\n",
    "        with open(filename, 'w', newline='') as csvfile:\n",
    "            writer = csv.writer(csvfile)\n",
    "            for i, row in enumerate(data):\n",
    "                # Skip the first and last rows\n",
    "                if i != 0 and i != len(data) - 1:\n",
    "                    # Split the row by spaces and filter out empty strings\n",
    "                    writer.writerow([cell for cell in re.split(r'\\s{2,}', row) if cell])\n",
    "\n",
    "print(\"CSV files created or updated successfully in the specified directory.\")"
   ]
  },
  {
   "cell_type": "code",
   "execution_count": 6,
   "id": "99569b10-3fee-4e5c-854c-1c0284c58557",
   "metadata": {},
   "outputs": [],
   "source": [
    "import pandas as pd\n",
    "import os\n",
    "\n",
    "# List of sections (file names without extension)\n",
    "sections = ['zero_shot', 'linear_probe', 'wKNN', 'I2IR']\n",
    "\n",
    "# Dictionary to hold DataFrames for each section\n",
    "dfs = {}\n",
    "for section in sections:\n",
    "    filename = f'../Model Evaluations/{section}.csv'\n",
    "    if os.path.exists(filename):\n",
    "        dfs[section] = pd.read_csv(filename, skipinitialspace=True)\n",
    "    else:\n",
    "        print(f\"Warning: File '{filename}' not found.\")"
   ]
  },
  {
   "cell_type": "code",
   "execution_count": 7,
   "id": "66e0df63-a09d-42df-8655-6916d54e51dc",
   "metadata": {},
   "outputs": [
    {
     "data": {
      "text/html": [
       "<div>\n",
       "<style scoped>\n",
       "    .dataframe tbody tr th:only-of-type {\n",
       "        vertical-align: middle;\n",
       "    }\n",
       "\n",
       "    .dataframe tbody tr th {\n",
       "        vertical-align: top;\n",
       "    }\n",
       "\n",
       "    .dataframe thead th {\n",
       "        text-align: right;\n",
       "    }\n",
       "</style>\n",
       "<table border=\"1\" class=\"dataframe\">\n",
       "  <thead>\n",
       "    <tr style=\"text-align: right;\">\n",
       "      <th></th>\n",
       "      <th>Model/Dataset</th>\n",
       "      <th>Alzheimer-MRI</th>\n",
       "      <th>chest-xray-classification</th>\n",
       "      <th>LungCancer4Types</th>\n",
       "      <th>skin-cancer</th>\n",
       "    </tr>\n",
       "  </thead>\n",
       "  <tbody>\n",
       "    <tr>\n",
       "      <th>0</th>\n",
       "      <td>bioclip</td>\n",
       "      <td>0.3086</td>\n",
       "      <td>0.7356</td>\n",
       "      <td>0.1867</td>\n",
       "      <td>0.0486</td>\n",
       "    </tr>\n",
       "    <tr>\n",
       "      <th>1</th>\n",
       "      <td>biomedclip-pubmedbert-chuhac</td>\n",
       "      <td>0.4518</td>\n",
       "      <td>0.7785</td>\n",
       "      <td>0.2600</td>\n",
       "      <td>0.1549</td>\n",
       "    </tr>\n",
       "    <tr>\n",
       "      <th>2</th>\n",
       "      <td>clipmd</td>\n",
       "      <td>0.4948</td>\n",
       "      <td>0.7391</td>\n",
       "      <td>0.2133</td>\n",
       "      <td>0.1124</td>\n",
       "    </tr>\n",
       "    <tr>\n",
       "      <th>3</th>\n",
       "      <td>pubmed</td>\n",
       "      <td>0.3047</td>\n",
       "      <td>0.7760</td>\n",
       "      <td>0.2467</td>\n",
       "      <td>0.1140</td>\n",
       "    </tr>\n",
       "  </tbody>\n",
       "</table>\n",
       "</div>"
      ],
      "text/plain": [
       "                  Model/Dataset  Alzheimer-MRI  chest-xray-classification  \\\n",
       "0                       bioclip         0.3086                     0.7356   \n",
       "1  biomedclip-pubmedbert-chuhac         0.4518                     0.7785   \n",
       "2                        clipmd         0.4948                     0.7391   \n",
       "3                        pubmed         0.3047                     0.7760   \n",
       "\n",
       "   LungCancer4Types  skin-cancer  \n",
       "0            0.1867       0.0486  \n",
       "1            0.2600       0.1549  \n",
       "2            0.2133       0.1124  \n",
       "3            0.2467       0.1140  "
      ]
     },
     "execution_count": 7,
     "metadata": {},
     "output_type": "execute_result"
    }
   ],
   "source": [
    "dfs['zero_shot']"
   ]
  },
  {
   "cell_type": "code",
   "execution_count": 8,
   "id": "e8e6190c-bf97-4bf9-84ac-557b4d24f29d",
   "metadata": {},
   "outputs": [
    {
     "data": {
      "text/html": [
       "<div>\n",
       "<style scoped>\n",
       "    .dataframe tbody tr th:only-of-type {\n",
       "        vertical-align: middle;\n",
       "    }\n",
       "\n",
       "    .dataframe tbody tr th {\n",
       "        vertical-align: top;\n",
       "    }\n",
       "\n",
       "    .dataframe thead th {\n",
       "        text-align: right;\n",
       "    }\n",
       "</style>\n",
       "<table border=\"1\" class=\"dataframe\">\n",
       "  <thead>\n",
       "    <tr style=\"text-align: right;\">\n",
       "      <th></th>\n",
       "      <th>Model/Dataset</th>\n",
       "      <th>Alzheimer-MRI</th>\n",
       "      <th>chest-xray-classification</th>\n",
       "      <th>LungCancer4Types</th>\n",
       "      <th>skin-cancer</th>\n",
       "    </tr>\n",
       "  </thead>\n",
       "  <tbody>\n",
       "    <tr>\n",
       "      <th>0</th>\n",
       "      <td>bioclip</td>\n",
       "      <td>0.6094</td>\n",
       "      <td>0.9579</td>\n",
       "      <td>0.5933</td>\n",
       "      <td>0.8218</td>\n",
       "    </tr>\n",
       "    <tr>\n",
       "      <th>1</th>\n",
       "      <td>biomedclip-pubmedbert-chuhac</td>\n",
       "      <td>0.5664</td>\n",
       "      <td>0.9579</td>\n",
       "      <td>0.6467</td>\n",
       "      <td>0.7652</td>\n",
       "    </tr>\n",
       "    <tr>\n",
       "      <th>2</th>\n",
       "      <td>clipmd</td>\n",
       "      <td>0.5651</td>\n",
       "      <td>0.9536</td>\n",
       "      <td>0.5800</td>\n",
       "      <td>0.7640</td>\n",
       "    </tr>\n",
       "    <tr>\n",
       "      <th>3</th>\n",
       "      <td>pubmed</td>\n",
       "      <td>0.5521</td>\n",
       "      <td>0.9356</td>\n",
       "      <td>0.4800</td>\n",
       "      <td>0.7480</td>\n",
       "    </tr>\n",
       "  </tbody>\n",
       "</table>\n",
       "</div>"
      ],
      "text/plain": [
       "                  Model/Dataset  Alzheimer-MRI  chest-xray-classification  \\\n",
       "0                       bioclip         0.6094                     0.9579   \n",
       "1  biomedclip-pubmedbert-chuhac         0.5664                     0.9579   \n",
       "2                        clipmd         0.5651                     0.9536   \n",
       "3                        pubmed         0.5521                     0.9356   \n",
       "\n",
       "   LungCancer4Types  skin-cancer  \n",
       "0            0.5933       0.8218  \n",
       "1            0.6467       0.7652  \n",
       "2            0.5800       0.7640  \n",
       "3            0.4800       0.7480  "
      ]
     },
     "execution_count": 8,
     "metadata": {},
     "output_type": "execute_result"
    }
   ],
   "source": [
    "dfs['linear_probe']"
   ]
  },
  {
   "cell_type": "code",
   "execution_count": 9,
   "id": "6196de6b-793d-4ec2-8896-99c12a3756fb",
   "metadata": {},
   "outputs": [
    {
     "data": {
      "text/html": [
       "<div>\n",
       "<style scoped>\n",
       "    .dataframe tbody tr th:only-of-type {\n",
       "        vertical-align: middle;\n",
       "    }\n",
       "\n",
       "    .dataframe tbody tr th {\n",
       "        vertical-align: top;\n",
       "    }\n",
       "\n",
       "    .dataframe thead th {\n",
       "        text-align: right;\n",
       "    }\n",
       "</style>\n",
       "<table border=\"1\" class=\"dataframe\">\n",
       "  <thead>\n",
       "    <tr style=\"text-align: right;\">\n",
       "      <th></th>\n",
       "      <th>Model/Dataset</th>\n",
       "      <th>Alzheimer-MRI</th>\n",
       "      <th>chest-xray-classification</th>\n",
       "      <th>LungCancer4Types</th>\n",
       "      <th>skin-cancer</th>\n",
       "    </tr>\n",
       "  </thead>\n",
       "  <tbody>\n",
       "    <tr>\n",
       "      <th>0</th>\n",
       "      <td>bioclip</td>\n",
       "      <td>0.9232</td>\n",
       "      <td>0.9425</td>\n",
       "      <td>0.6333</td>\n",
       "      <td>0.9735</td>\n",
       "    </tr>\n",
       "    <tr>\n",
       "      <th>1</th>\n",
       "      <td>biomedclip-pubmedbert-chuhac</td>\n",
       "      <td>0.8438</td>\n",
       "      <td>0.9528</td>\n",
       "      <td>0.5867</td>\n",
       "      <td>0.9727</td>\n",
       "    </tr>\n",
       "    <tr>\n",
       "      <th>2</th>\n",
       "      <td>clipmd</td>\n",
       "      <td>0.7891</td>\n",
       "      <td>0.9185</td>\n",
       "      <td>0.5000</td>\n",
       "      <td>0.9663</td>\n",
       "    </tr>\n",
       "    <tr>\n",
       "      <th>3</th>\n",
       "      <td>pubmed</td>\n",
       "      <td>0.8789</td>\n",
       "      <td>0.9373</td>\n",
       "      <td>0.4867</td>\n",
       "      <td>0.9679</td>\n",
       "    </tr>\n",
       "  </tbody>\n",
       "</table>\n",
       "</div>"
      ],
      "text/plain": [
       "                  Model/Dataset  Alzheimer-MRI  chest-xray-classification  \\\n",
       "0                       bioclip         0.9232                     0.9425   \n",
       "1  biomedclip-pubmedbert-chuhac         0.8438                     0.9528   \n",
       "2                        clipmd         0.7891                     0.9185   \n",
       "3                        pubmed         0.8789                     0.9373   \n",
       "\n",
       "   LungCancer4Types  skin-cancer  \n",
       "0            0.6333       0.9735  \n",
       "1            0.5867       0.9727  \n",
       "2            0.5000       0.9663  \n",
       "3            0.4867       0.9679  "
      ]
     },
     "execution_count": 9,
     "metadata": {},
     "output_type": "execute_result"
    }
   ],
   "source": [
    "dfs['wKNN']"
   ]
  },
  {
   "cell_type": "code",
   "execution_count": 10,
   "id": "17bec674-836d-460c-9142-6b32cbaf9175",
   "metadata": {},
   "outputs": [
    {
     "data": {
      "text/html": [
       "<div>\n",
       "<style scoped>\n",
       "    .dataframe tbody tr th:only-of-type {\n",
       "        vertical-align: middle;\n",
       "    }\n",
       "\n",
       "    .dataframe tbody tr th {\n",
       "        vertical-align: top;\n",
       "    }\n",
       "\n",
       "    .dataframe thead th {\n",
       "        text-align: right;\n",
       "    }\n",
       "</style>\n",
       "<table border=\"1\" class=\"dataframe\">\n",
       "  <thead>\n",
       "    <tr style=\"text-align: right;\">\n",
       "      <th></th>\n",
       "      <th>Model/Dataset</th>\n",
       "      <th>Alzheimer-MRI</th>\n",
       "      <th>chest-xray-classification</th>\n",
       "      <th>LungCancer4Types</th>\n",
       "      <th>skin-cancer</th>\n",
       "    </tr>\n",
       "  </thead>\n",
       "  <tbody>\n",
       "    <tr>\n",
       "      <th>0</th>\n",
       "      <td>bioclip</td>\n",
       "      <td>0.4349</td>\n",
       "      <td>0.8504</td>\n",
       "      <td>0.3535</td>\n",
       "      <td>0.6267</td>\n",
       "    </tr>\n",
       "    <tr>\n",
       "      <th>1</th>\n",
       "      <td>biomedclip-pubmedbert-chuhac</td>\n",
       "      <td>0.4263</td>\n",
       "      <td>0.8699</td>\n",
       "      <td>0.2596</td>\n",
       "      <td>0.6314</td>\n",
       "    </tr>\n",
       "    <tr>\n",
       "      <th>2</th>\n",
       "      <td>clipmd</td>\n",
       "      <td>0.4126</td>\n",
       "      <td>0.7942</td>\n",
       "      <td>0.2887</td>\n",
       "      <td>0.5991</td>\n",
       "    </tr>\n",
       "    <tr>\n",
       "      <th>3</th>\n",
       "      <td>pubmed</td>\n",
       "      <td>0.4255</td>\n",
       "      <td>0.8182</td>\n",
       "      <td>0.3242</td>\n",
       "      <td>0.6199</td>\n",
       "    </tr>\n",
       "  </tbody>\n",
       "</table>\n",
       "</div>"
      ],
      "text/plain": [
       "                  Model/Dataset  Alzheimer-MRI  chest-xray-classification  \\\n",
       "0                       bioclip         0.4349                     0.8504   \n",
       "1  biomedclip-pubmedbert-chuhac         0.4263                     0.8699   \n",
       "2                        clipmd         0.4126                     0.7942   \n",
       "3                        pubmed         0.4255                     0.8182   \n",
       "\n",
       "   LungCancer4Types  skin-cancer  \n",
       "0            0.3535       0.6267  \n",
       "1            0.2596       0.6314  \n",
       "2            0.2887       0.5991  \n",
       "3            0.3242       0.6199  "
      ]
     },
     "execution_count": 10,
     "metadata": {},
     "output_type": "execute_result"
    }
   ],
   "source": [
    "dfs['I2IR']"
   ]
  },
  {
   "cell_type": "code",
   "execution_count": 20,
   "id": "cba36858-3f7f-49c4-b445-8d551be1e320",
   "metadata": {},
   "outputs": [],
   "source": [
    "import matplotlib.pyplot as plt\n",
    "\n",
    "def plot_dataframes(dictionary_of_dataframes):\n",
    "    # Define the categories and positions for the bars\n",
    "    categories = ['Alzheimer-MRI', 'chest-xray-classification', 'LungCancer4Types', 'skin-cancer']\n",
    "    positions = np.arange(len(categories))\n",
    "    bar_width = 0.2  # Width of the bars\n",
    "\n",
    "    for key, df in dictionary_of_dataframes.items():\n",
    "        plt.figure(figsize=(10, 6))\n",
    "        \n",
    "        # Scale scores to 0-100 range\n",
    "        scaled_df = df.copy()\n",
    "        for col in categories:\n",
    "            scaled_df[col] = df[col] * 100\n",
    "        \n",
    "        # Plot each category as a bar group\n",
    "        for i, col in enumerate(categories):\n",
    "            plt.bar(positions + i * bar_width, scaled_df[col], width=bar_width, label=col)\n",
    "\n",
    "        plt.xlabel('Models')\n",
    "        plt.ylabel('Score %')\n",
    "        plt.title(f'{key}')\n",
    "        plt.xticks(positions + bar_width * 1.5, df.index)  # Set x-axis ticks to index of DataFrame\n",
    "        plt.ylim(0, 100)  # Set y-axis limits from 0 to 100\n",
    "        plt.legend()\n",
    "        plt.grid(True)\n",
    "        plt.tight_layout()\n",
    "        plt.show()"
   ]
  },
  {
   "cell_type": "code",
   "execution_count": 21,
   "id": "5b7c7789-1e75-4dbe-843d-307cb30e8b33",
   "metadata": {},
   "outputs": [
    {
     "data": {
      "image/png": "[encoded data removed]",
      "text/plain": [
       "<Figure size 1000x600 with 1 Axes>"
      ]
     },
     "metadata": {},
     "output_type": "display_data"
    },
    {
     "data": {
      "image/png": "[encoded data removed]",
      "text/plain": [
       "<Figure size 1000x600 with 1 Axes>"
      ]
     },
     "metadata": {},
     "output_type": "display_data"
    },
    {
     "data": {
      "image/png": "[encoded data removed]",
      "text/plain": [
       "<Figure size 1000x600 with 1 Axes>"
      ]
     },
     "metadata": {},
     "output_type": "display_data"
    },
    {
     "data": {
      "image/png": "[encoded data removed]",
      "text/plain": [
       "<Figure size 1000x600 with 1 Axes>"
      ]
     },
     "metadata": {},
     "output_type": "display_data"
    }
   ],
   "source": [
    "plot_dataframes(dfs)"
   ]
  }
 ],
 "metadata": {
  "kernelspec": {
   "display_name": "Python 3 (ipykernel)",
   "language": "python",
   "name": "python3"
  },
  "language_info": {
   "codemirror_mode": {
    "name": "ipython",
    "version": 3
   },
   "file_extension": ".py",
   "mimetype": "text/x-python",
   "name": "python",
   "nbconvert_exporter": "python",
   "pygments_lexer": "ipython3",
   "version": "3.11.9"
  }
 },
 "nbformat": 4,
 "nbformat_minor": 5
}
