{
 "cells": [
  {
   "cell_type": "code",
   "execution_count": 1,
   "id": "97ce8331-4170-4738-a032-3c44b8eed2d5",
   "metadata": {},
   "outputs": [],
   "source": [
    "import torch\n",
    "import torch.nn as nn\n",
    "from torch.cuda.amp import autocast, GradScaler\n",
    "from torch.optim import Adam\n",
    "from transformers import GPT2LMHeadModel, GPT2Tokenizer\n",
    "from torch.utils.data import DataLoader, Dataset\n",
    "import pandas as pd\n",
    "import os\n",
    "from open_clip import create_model_and_transforms\n",
    "from PIL import Image"
   ]
  },
  {
   "cell_type": "code",
   "execution_count": 2,
   "id": "6d6dc8be-cbc7-4615-aadf-4ae0e3f29e93",
   "metadata": {},
   "outputs": [],
   "source": [
    "class ImageCaptioningModel(nn.Module):\n",
    "    def __init__(self, encoder_model_name='hf-hub:microsoft/BiomedCLIP-PubMedBERT_256-vit_base_patch16_224', \n",
    "                 gpt2_model_name='gpt2', projection_dim=512):\n",
    "        super(ImageCaptioningModel, self).__init__()\n",
    "        \n",
    "        # Load Encoder model and its tokenizer\n",
    "        self.encoder_model, self.preprocess_train, self.preprocess_val = create_model_and_transforms(\n",
    "            encoder_model_name, pretrained_hf=True\n",
    "        )\n",
    "        \n",
    "        # Get the encoder output size by passing a dummy input through the encoder\n",
    "        dummy_input = torch.rand(1, 3, 224, 224)  # Assuming the model input size is 224x224\n",
    "        with torch.no_grad():\n",
    "            dummy_output = self.encoder_model.encode_image(dummy_input)\n",
    "        self.encoder_output_dim = dummy_output.shape[1]  # Use the embedding dimension from the dummy output\n",
    "        \n",
    "        # GPT-2 Decoder model\n",
    "        self.gpt2_model = GPT2LMHeadModel.from_pretrained(gpt2_model_name)\n",
    "        self.gpt2_tokenizer = GPT2Tokenizer.from_pretrained(gpt2_model_name)\n",
    "\n",
    "        # Projection layer to match embedding sizes\n",
    "        self.image_embeddings_projected = nn.Linear(self.encoder_output_dim, projection_dim)\n",
    "    \n",
    "    def forward(self, images, input_ids, attention_mask):\n",
    "        # Extract image embeddings\n",
    "        image_embeddings = self.encoder_model.encode_image(images)\n",
    "        image_embeddings_projected = self.image_embeddings_projected(image_embeddings)\n",
    "        # Get GPT-2 outputs using the provided input_ids and attention_mask\n",
    "        logits = self.gpt2_model(input_ids=input_ids, attention_mask=attention_mask).logits\n",
    "        return logits\n",
    " \n",
    "\n",
    "\n",
    "    def preprocess_image(self, image_path):\n",
    "        image = Image.open(image_path).convert('RGB')\n",
    "        image_tensor = self.preprocess_val(image).unsqueeze(0)  # Preprocess image\n",
    "        return image_tensor\n",
    "\n",
    "    def tokenize_caption(self, caption):\n",
    "        return self.gpt2_tokenizer.encode(caption, return_tensors='pt')\n",
    "\n",
    "    def decode_caption(self, caption_tokens):\n",
    "        return self.gpt2_tokenizer.decode(caption_tokens, skip_special_tokens=True)\n"
   ]
  },
  {
   "cell_type": "code",
   "execution_count": 3,
   "id": "5e8433fc-2a1c-4648-b855-ad4dd466e06c",
   "metadata": {},
   "outputs": [],
   "source": [
    "class ROCODataset(Dataset):\n",
    "    def __init__(self, caption_file, image_folder, model):\n",
    "        self.captions = pd.read_csv(caption_file)\n",
    "        self.image_folder = image_folder\n",
    "        self.preprocess = model.preprocess_train\n",
    "        self.tokenizer = GPT2Tokenizer.from_pretrained('gpt2')\n",
    "\n",
    "        # Assign a padding token\n",
    "        if self.tokenizer.pad_token is None:\n",
    "            self.tokenizer.pad_token = self.tokenizer.eos_token  # or you can set a new token with add_special_tokens\n",
    "\n",
    "    def __len__(self):\n",
    "        return len(self.captions)\n",
    "\n",
    "    def __getitem__(self, idx):\n",
    "        caption = self.captions.iloc[idx]['Caption']\n",
    "        image_id = self.captions.iloc[idx]['ID']\n",
    "        image_path = os.path.join(self.image_folder, image_id + '.jpg')\n",
    "\n",
    "        # Load and preprocess the image\n",
    "        image = Image.open(image_path).convert(\"RGB\")\n",
    "        image_tensor = self.preprocess(image)\n",
    "        # Tokenize the caption\n",
    "        caption_tokens = self.tokenizer(caption, return_tensors='pt', padding=True, truncation=True)\n",
    "\n",
    "        return image_tensor, caption_tokens['input_ids'].squeeze(0), caption_tokens['attention_mask'].squeeze(0)\n"
   ]
  },
  {
   "cell_type": "code",
   "execution_count": 4,
   "id": "4430fbf7-898b-4f63-a9ed-f58bef83be88",
   "metadata": {},
   "outputs": [],
   "source": [
    "def custom_collate_fn(batch):\n",
    "    images, captions, attention_masks = zip(*batch)\n",
    "    \n",
    "    # Stack images (they are all the same size)\n",
    "    images = torch.stack(images)\n",
    "    \n",
    "    # Pad captions and attention masks\n",
    "    captions = torch.nn.utils.rnn.pad_sequence(captions, batch_first=True, padding_value=0)\n",
    "    attention_masks = torch.nn.utils.rnn.pad_sequence(attention_masks, batch_first=True, padding_value=0)\n",
    "    \n",
    "    return images, captions, attention_masks\n"
   ]
  },
  {
   "cell_type": "code",
   "execution_count": 5,
   "id": "0da8b0f1-41a4-4786-9003-02565c94ff5c",
   "metadata": {},
   "outputs": [],
   "source": [
    "import time\n",
    "\n",
    "def train_model_mixed_precision(model, dataloader, epochs=5, lr=1e-4):\n",
    "    device = torch.device('cuda' if torch.cuda.is_available() else 'cpu')\n",
    "    model.to(device)\n",
    "    optimizer = Adam(model.parameters(), lr=lr)\n",
    "    scaler = torch.amp.GradScaler()\n",
    "    loss_fn = nn.CrossEntropyLoss()\n",
    "\n",
    "    for epoch in range(epochs):\n",
    "        running_loss = 0.0\n",
    "        epoch_start_time = time.time()\n",
    "\n",
    "        for i, (image_tensor, inputs, attention_mask) in enumerate(dataloader):\n",
    "            image_tensor = image_tensor.to(device)\n",
    "            inputs = inputs.to(device)\n",
    "            attention_mask = attention_mask.to(device)\n",
    "\n",
    "            optimizer.zero_grad()\n",
    "\n",
    "            with torch.amp.autocast(device_type='cuda'):\n",
    "                logits = model(image_tensor, inputs, attention_mask)\n",
    "                loss = loss_fn(logits.view(-1, logits.size(-1)), inputs.view(-1))\n",
    "\n",
    "            scaler.scale(loss).backward()\n",
    "            scaler.step(optimizer)\n",
    "            scaler.update()\n",
    "\n",
    "            running_loss += loss.item()\n",
    "\n",
    "            # Measure time per batch\n",
    "            if i % 10 == 0:  # Print every 10 batches\n",
    "                print(f\"Batch {i}, Loss: {loss.item()}\")\n",
    "\n",
    "        epoch_duration = time.time() - epoch_start_time\n",
    "        print(f\"Epoch {epoch+1}/{epochs}, Loss: {running_loss/len(dataloader)}, Duration: {epoch_duration:.2f} seconds\")\n"
   ]
  },
  {
   "cell_type": "code",
   "execution_count": 6,
   "id": "f5b08c56-b43c-490b-802d-667f189103bf",
   "metadata": {},
   "outputs": [
    {
     "name": "stderr",
     "output_type": "stream",
     "text": [
      "G:\\anaconda3\\envs\\MEDCAT\\Lib\\site-packages\\open_clip\\factory.py:129: FutureWarning: You are using `torch.load` with `weights_only=False` (the current default value), which uses the default pickle module implicitly. It is possible to construct malicious pickle data which will execute arbitrary code during unpickling (See https://github.com/pytorch/pytorch/blob/main/SECURITY.md#untrusted-models for more details). In a future release, the default value for `weights_only` will be flipped to `True`. This limits the functions that could be executed during unpickling. Arbitrary objects will no longer be allowed to be loaded via this mode unless they are explicitly allowlisted by the user via `torch.serialization.add_safe_globals`. We recommend you start setting `weights_only=True` for any use case where you don't have full control of the loaded file. Please open an issue on GitHub for any issues related to this experimental feature.\n",
      "  checkpoint = torch.load(checkpoint_path, map_location=map_location)\n",
      "G:\\anaconda3\\envs\\MEDCAT\\Lib\\site-packages\\transformers\\tokenization_utils_base.py:1601: FutureWarning: `clean_up_tokenization_spaces` was not set. It will be set to `True` by default. This behavior will be depracted in transformers v4.45, and will be then set to `False` by default. For more details check this issue: https://github.com/huggingface/transformers/issues/31884\n",
      "  warnings.warn(\n",
      "G:\\anaconda3\\envs\\MEDCAT\\Lib\\site-packages\\transformers\\tokenization_utils_base.py:1601: FutureWarning: `clean_up_tokenization_spaces` was not set. It will be set to `True` by default. This behavior will be depracted in transformers v4.45, and will be then set to `False` by default. For more details check this issue: https://github.com/huggingface/transformers/issues/31884\n",
      "  warnings.warn(\n",
      "G:\\anaconda3\\envs\\MEDCAT\\Lib\\site-packages\\transformers\\tokenization_utils_base.py:1601: FutureWarning: `clean_up_tokenization_spaces` was not set. It will be set to `True` by default. This behavior will be depracted in transformers v4.45, and will be then set to `False` by default. For more details check this issue: https://github.com/huggingface/transformers/issues/31884\n",
      "  warnings.warn(\n"
     ]
    }
   ],
   "source": [
    "# File paths\n",
    "train_caption_file = \"../Datasets/ROCO2/train_captions.csv\"\n",
    "train_image_folder = \"../Datasets/ROCO2/train_images/train/\"\n",
    "test_caption_file = \"../Datasets/ROCO2/test_captions.csv\"\n",
    "test_image_folder = \"../Datasets/ROCO2/test_images/test/\"\n",
    "\n",
    "# Initialize the model (use the BiomedCLIP model as encoder)\n",
    "model = ImageCaptioningModel(encoder_model_name='hf-hub:microsoft/BiomedCLIP-PubMedBERT_256-vit_base_patch16_224')\n",
    "\n",
    "# Create datasets for train and test\n",
    "train_dataset = ROCODataset(train_caption_file, train_image_folder, model)\n",
    "test_dataset = ROCODataset(test_caption_file, test_image_folder, model)\n",
    "\n",
    "# Create DataLoaders for train and test\n",
    "train_loader = DataLoader(train_dataset, batch_size=16, shuffle=True, collate_fn=custom_collate_fn)\n",
    "test_loader = DataLoader(test_dataset, batch_size=16, shuffle=True, collate_fn=custom_collate_fn)"
   ]
  },
  {
   "cell_type": "code",
   "execution_count": null,
   "id": "5bd72524-a2c5-4b20-8b01-ba9fb9e47ce0",
   "metadata": {},
   "outputs": [
    {
     "name": "stderr",
     "output_type": "stream",
     "text": [
      "G:\\anaconda3\\envs\\MEDCAT\\Lib\\site-packages\\timm\\models\\vision_transformer.py:92: UserWarning: 1Torch was not compiled with flash attention. (Triggered internally at C:\\actions-runner\\_work\\pytorch\\pytorch\\builder\\windows\\pytorch\\aten\\src\\ATen\\native\\transformers\\cuda\\sdp_utils.cpp:555.)\n",
      "  x = F.scaled_dot_product_attention(\n"
     ]
    },
    {
     "name": "stdout",
     "output_type": "stream",
     "text": [
      "Batch 0, Loss: 9.890169143676758\n",
      "Batch 10, Loss: 4.129048824310303\n",
      "Batch 20, Loss: 1.3760032653808594\n",
      "Batch 30, Loss: 0.2009284943342209\n",
      "Batch 40, Loss: 0.036839503794908524\n",
      "Batch 50, Loss: 0.03655512258410454\n",
      "Batch 60, Loss: 0.011183960363268852\n",
      "Batch 70, Loss: 0.015059743076562881\n",
      "Batch 80, Loss: 0.007550396490842104\n",
      "Batch 90, Loss: 0.004434171598404646\n"
     ]
    }
   ],
   "source": [
    "# Train the model with the ROCO dataset\n",
    "train_model_mixed_precision(model, train_loader, epochs=5)\n"
   ]
  },
  {
   "cell_type": "code",
   "execution_count": null,
   "id": "95924cff-3d86-478c-ad9d-2fbc220fd922",
   "metadata": {},
   "outputs": [],
   "source": []
  }
 ],
 "metadata": {
  "kernelspec": {
   "display_name": "Python 3 (ipykernel)",
   "language": "python",
   "name": "python3"
  },
  "language_info": {
   "codemirror_mode": {
    "name": "ipython",
    "version": 3
   },
   "file_extension": ".py",
   "mimetype": "text/x-python",
   "name": "python",
   "nbconvert_exporter": "python",
   "pygments_lexer": "ipython3",
   "version": "3.11.9"
  }
 },
 "nbformat": 4,
 "nbformat_minor": 5
}
