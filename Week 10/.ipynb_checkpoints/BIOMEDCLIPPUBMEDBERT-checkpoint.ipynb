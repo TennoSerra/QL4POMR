{
 "cells": [
  {
   "cell_type": "code",
   "execution_count": 11,
   "id": "97ce8331-4170-4738-a032-3c44b8eed2d5",
   "metadata": {},
   "outputs": [],
   "source": [
    "import torch\n",
    "import torch.nn as nn\n",
    "from torch.cuda.amp import autocast, GradScaler\n",
    "from torch.optim import Adam\n",
    "from transformers import GPT2LMHeadModel, GPT2Tokenizer\n",
    "from torch.utils.data import DataLoader, Dataset\n",
    "import pandas as pd\n",
    "import os\n",
    "from open_clip import create_model_and_transforms\n",
    "from PIL import Image"
   ]
  },
  {
   "cell_type": "code",
   "execution_count": 2,
   "id": "6d6dc8be-cbc7-4615-aadf-4ae0e3f29e93",
   "metadata": {},
   "outputs": [],
   "source": [
    "class ImageCaptioningModel(nn.Module):\n",
    "    def __init__(self, encoder_model_name='hf-hub:microsoft/BiomedCLIP-PubMedBERT_256-vit_base_patch16_224', \n",
    "                 gpt2_model_name='gpt2', projection_dim=512):\n",
    "        super(ImageCaptioningModel, self).__init__()\n",
    "        \n",
    "        # Load Encoder model and its tokenizer\n",
    "        self.encoder_model, self.preprocess_train, self.preprocess_val = create_model_and_transforms(\n",
    "            encoder_model_name, pretrained_hf=True\n",
    "        )\n",
    "        \n",
    "        # Get the encoder output size by passing a dummy input through the encoder\n",
    "        dummy_input = torch.rand(1, 3, 224, 224)  # Assuming the model input size is 224x224\n",
    "        with torch.no_grad():\n",
    "            dummy_output = self.encoder_model.encode_image(dummy_input)\n",
    "        self.encoder_output_dim = dummy_output.shape[1]  # Use the embedding dimension from the dummy output\n",
    "        \n",
    "        # GPT-2 Decoder model\n",
    "        self.gpt2_model = GPT2LMHeadModel.from_pretrained(gpt2_model_name)\n",
    "        self.gpt2_tokenizer = GPT2Tokenizer.from_pretrained(gpt2_model_name)\n",
    "\n",
    "        # Projection layer to match embedding sizes\n",
    "        self.image_embeddings_projected = nn.Linear(self.encoder_output_dim, projection_dim)\n",
    "    \n",
    "    def forward(self, images, captions):\n",
    "        # Extract image embeddings\n",
    "        image_embeddings = self.encoder_model.encode_image(images)\n",
    "        image_embeddings_projected = self.image_embeddings_projected(image_embeddings)\n",
    "        \n",
    "        # Get GPT-2 inputs and generate logits\n",
    "        gpt2_inputs = self.gpt2_tokenizer(captions, return_tensors=\"pt\", padding=True, truncation=True)\n",
    "        logits = self.gpt2_model(**gpt2_inputs).logits\n",
    "        \n",
    "        return logits\n",
    "\n",
    "    def preprocess_image(self, image_path):\n",
    "        image = Image.open(image_path).convert('RGB')\n",
    "        image_tensor = self.preprocess_val(image).unsqueeze(0)  # Preprocess image\n",
    "        return image_tensor\n",
    "\n",
    "    def tokenize_caption(self, caption):\n",
    "        return self.gpt2_tokenizer.encode(caption, return_tensors='pt')\n",
    "\n",
    "    def decode_caption(self, caption_tokens):\n",
    "        return self.gpt2_tokenizer.decode(caption_tokens, skip_special_tokens=True)\n"
   ]
  },
  {
   "cell_type": "code",
   "execution_count": 3,
   "id": "5e8433fc-2a1c-4648-b855-ad4dd466e06c",
   "metadata": {},
   "outputs": [],
   "source": [
    "class ROCODataset(Dataset):\n",
    "    def __init__(self, caption_file, image_folder, model):\n",
    "        self.captions = pd.read_csv(caption_file)\n",
    "        self.image_folder = image_folder\n",
    "        self.preprocess = model.preprocess_train\n",
    "        self.tokenizer = GPT2Tokenizer.from_pretrained('gpt2')\n",
    "\n",
    "        # Assign a padding token\n",
    "        if self.tokenizer.pad_token is None:\n",
    "            self.tokenizer.pad_token = self.tokenizer.eos_token  # or you can set a new token with add_special_tokens\n",
    "\n",
    "    def __len__(self):\n",
    "        return len(self.captions)\n",
    "\n",
    "    def __getitem__(self, idx):\n",
    "        caption = self.captions.iloc[idx]['Caption']\n",
    "        image_id = self.captions.iloc[idx]['ID']\n",
    "        image_path = os.path.join(self.image_folder, image_id + '.jpg')\n",
    "\n",
    "        # Load and preprocess the image\n",
    "        image = Image.open(image_path).convert(\"RGB\")\n",
    "        image_tensor = self.preprocess(image)\n",
    "\n",
    "        # Tokenize the caption\n",
    "        caption_tokens = self.tokenizer(caption, return_tensors='pt', padding=True, truncation=True)\n",
    "\n",
    "        return image_tensor, caption_tokens['input_ids'].squeeze(0), caption_tokens['attention_mask'].squeeze(0)\n"
   ]
  },
  {
   "cell_type": "code",
   "execution_count": 4,
   "id": "4430fbf7-898b-4f63-a9ed-f58bef83be88",
   "metadata": {},
   "outputs": [],
   "source": [
    "def custom_collate_fn(batch):\n",
    "    images, captions, attention_masks = zip(*batch)\n",
    "    \n",
    "    # Stack images (they are all the same size)\n",
    "    images = torch.stack(images)\n",
    "    \n",
    "    # Pad captions and attention masks\n",
    "    captions = torch.nn.utils.rnn.pad_sequence(captions, batch_first=True, padding_value=0)\n",
    "    attention_masks = torch.nn.utils.rnn.pad_sequence(attention_masks, batch_first=True, padding_value=0)\n",
    "    \n",
    "    return images, captions, attention_masks\n"
   ]
  },
  {
   "cell_type": "code",
   "execution_count": 15,
   "id": "0da8b0f1-41a4-4786-9003-02565c94ff5c",
   "metadata": {},
   "outputs": [],
   "source": [
    "def train_model_mixed_precision(model, dataloader, epochs=5, lr=1e-4):\n",
    "    device = torch.device('cuda' if torch.cuda.is_available() else 'cpu')\n",
    "    model.to(device)\n",
    "    optimizer = Adam(model.parameters(), lr=lr)\n",
    "    scaler = torch.amp.GradScaler('cuda')\n",
    "\n",
    "    for epoch in range(epochs):\n",
    "        running_loss = 0.0\n",
    "\n",
    "        for image_tensor, inputs, attention_mask in dataloader:\n",
    "            image_tensor = image_tensor.to(device)\n",
    "            inputs = inputs.to(device)\n",
    "            attention_mask = attention_mask.to(device)\n",
    "\n",
    "            optimizer.zero_grad()\n",
    "\n",
    "            with torch.amp.autocast(device_type='cuda'):\n",
    "                outputs = model(image_tensor, inputs)\n",
    "                loss = outputs.loss\n",
    "\n",
    "            scaler.scale(loss).backward()\n",
    "            scaler.step(optimizer)\n",
    "            scaler.update()\n",
    "\n",
    "            running_loss += loss.item()\n",
    "\n",
    "        print(f\"Epoch {epoch+1}/{epochs}, Loss: {running_loss/len(dataloader)}\")\n"
   ]
  },
  {
   "cell_type": "code",
   "execution_count": 6,
   "id": "f5b08c56-b43c-490b-802d-667f189103bf",
   "metadata": {},
   "outputs": [
    {
     "name": "stderr",
     "output_type": "stream",
     "text": [
      "G:\\anaconda3\\envs\\MEDCAT\\Lib\\site-packages\\open_clip\\factory.py:129: FutureWarning: You are using `torch.load` with `weights_only=False` (the current default value), which uses the default pickle module implicitly. It is possible to construct malicious pickle data which will execute arbitrary code during unpickling (See https://github.com/pytorch/pytorch/blob/main/SECURITY.md#untrusted-models for more details). In a future release, the default value for `weights_only` will be flipped to `True`. This limits the functions that could be executed during unpickling. Arbitrary objects will no longer be allowed to be loaded via this mode unless they are explicitly allowlisted by the user via `torch.serialization.add_safe_globals`. We recommend you start setting `weights_only=True` for any use case where you don't have full control of the loaded file. Please open an issue on GitHub for any issues related to this experimental feature.\n",
      "  checkpoint = torch.load(checkpoint_path, map_location=map_location)\n",
      "G:\\anaconda3\\envs\\MEDCAT\\Lib\\site-packages\\transformers\\tokenization_utils_base.py:1601: FutureWarning: `clean_up_tokenization_spaces` was not set. It will be set to `True` by default. This behavior will be depracted in transformers v4.45, and will be then set to `False` by default. For more details check this issue: https://github.com/huggingface/transformers/issues/31884\n",
      "  warnings.warn(\n",
      "G:\\anaconda3\\envs\\MEDCAT\\Lib\\site-packages\\transformers\\tokenization_utils_base.py:1601: FutureWarning: `clean_up_tokenization_spaces` was not set. It will be set to `True` by default. This behavior will be depracted in transformers v4.45, and will be then set to `False` by default. For more details check this issue: https://github.com/huggingface/transformers/issues/31884\n",
      "  warnings.warn(\n",
      "G:\\anaconda3\\envs\\MEDCAT\\Lib\\site-packages\\transformers\\tokenization_utils_base.py:1601: FutureWarning: `clean_up_tokenization_spaces` was not set. It will be set to `True` by default. This behavior will be depracted in transformers v4.45, and will be then set to `False` by default. For more details check this issue: https://github.com/huggingface/transformers/issues/31884\n",
      "  warnings.warn(\n"
     ]
    }
   ],
   "source": [
    "# File paths\n",
    "train_caption_file = \"../Datasets/ROCO2/train_captions.csv\"\n",
    "train_image_folder = \"../Datasets/ROCO2/train_images/train/\"\n",
    "test_caption_file = \"../Datasets/ROCO2/test_captions.csv\"\n",
    "test_image_folder = \"../Datasets/ROCO2/test_images/test/\"\n",
    "\n",
    "# Initialize the model (use the BiomedCLIP model as encoder)\n",
    "model = ImageCaptioningModel(encoder_model_name='hf-hub:microsoft/BiomedCLIP-PubMedBERT_256-vit_base_patch16_224')\n",
    "\n",
    "# Create datasets for train and test\n",
    "train_dataset = ROCODataset(train_caption_file, train_image_folder, model)\n",
    "test_dataset = ROCODataset(test_caption_file, test_image_folder, model)\n",
    "\n",
    "# Create DataLoaders for train and test\n",
    "train_loader = DataLoader(train_dataset, batch_size=32, shuffle=True, collate_fn=custom_collate_fn)\n",
    "test_loader = DataLoader(test_dataset, batch_size=32, shuffle=True, collate_fn=custom_collate_fn)"
   ]
  },
  {
   "cell_type": "code",
   "execution_count": 16,
   "id": "5bd72524-a2c5-4b20-8b01-ba9fb9e47ce0",
   "metadata": {},
   "outputs": [
    {
     "ename": "TypeError",
     "evalue": "ImageCaptioningModel.forward() got an unexpected keyword argument 'input_ids'",
     "output_type": "error",
     "traceback": [
      "\u001b[1;31m---------------------------------------------------------------------------\u001b[0m",
      "\u001b[1;31mTypeError\u001b[0m                                 Traceback (most recent call last)",
      "Cell \u001b[1;32mIn[16], line 2\u001b[0m\n\u001b[0;32m      1\u001b[0m \u001b[38;5;66;03m# Train the model with the ROCO dataset\u001b[39;00m\n\u001b[1;32m----> 2\u001b[0m train_model_mixed_precision(model, train_loader, epochs\u001b[38;5;241m=\u001b[39m\u001b[38;5;241m5\u001b[39m)\n",
      "Cell \u001b[1;32mIn[15], line 18\u001b[0m, in \u001b[0;36mtrain_model_mixed_precision\u001b[1;34m(model, dataloader, epochs, lr)\u001b[0m\n\u001b[0;32m     15\u001b[0m optimizer\u001b[38;5;241m.\u001b[39mzero_grad()\n\u001b[0;32m     17\u001b[0m \u001b[38;5;28;01mwith\u001b[39;00m torch\u001b[38;5;241m.\u001b[39mamp\u001b[38;5;241m.\u001b[39mautocast(device_type\u001b[38;5;241m=\u001b[39m\u001b[38;5;124m'\u001b[39m\u001b[38;5;124mcuda\u001b[39m\u001b[38;5;124m'\u001b[39m):\n\u001b[1;32m---> 18\u001b[0m     outputs \u001b[38;5;241m=\u001b[39m model(image_tensor, input_ids\u001b[38;5;241m=\u001b[39minputs, attention_mask\u001b[38;5;241m=\u001b[39mattention_mask)\n\u001b[0;32m     19\u001b[0m     loss \u001b[38;5;241m=\u001b[39m outputs\u001b[38;5;241m.\u001b[39mloss\n\u001b[0;32m     21\u001b[0m scaler\u001b[38;5;241m.\u001b[39mscale(loss)\u001b[38;5;241m.\u001b[39mbackward()\n",
      "File \u001b[1;32mG:\\anaconda3\\envs\\MEDCAT\\Lib\\site-packages\\torch\\nn\\modules\\module.py:1553\u001b[0m, in \u001b[0;36mModule._wrapped_call_impl\u001b[1;34m(self, *args, **kwargs)\u001b[0m\n\u001b[0;32m   1551\u001b[0m     \u001b[38;5;28;01mreturn\u001b[39;00m \u001b[38;5;28mself\u001b[39m\u001b[38;5;241m.\u001b[39m_compiled_call_impl(\u001b[38;5;241m*\u001b[39margs, \u001b[38;5;241m*\u001b[39m\u001b[38;5;241m*\u001b[39mkwargs)  \u001b[38;5;66;03m# type: ignore[misc]\u001b[39;00m\n\u001b[0;32m   1552\u001b[0m \u001b[38;5;28;01melse\u001b[39;00m:\n\u001b[1;32m-> 1553\u001b[0m     \u001b[38;5;28;01mreturn\u001b[39;00m \u001b[38;5;28mself\u001b[39m\u001b[38;5;241m.\u001b[39m_call_impl(\u001b[38;5;241m*\u001b[39margs, \u001b[38;5;241m*\u001b[39m\u001b[38;5;241m*\u001b[39mkwargs)\n",
      "File \u001b[1;32mG:\\anaconda3\\envs\\MEDCAT\\Lib\\site-packages\\torch\\nn\\modules\\module.py:1562\u001b[0m, in \u001b[0;36mModule._call_impl\u001b[1;34m(self, *args, **kwargs)\u001b[0m\n\u001b[0;32m   1557\u001b[0m \u001b[38;5;66;03m# If we don't have any hooks, we want to skip the rest of the logic in\u001b[39;00m\n\u001b[0;32m   1558\u001b[0m \u001b[38;5;66;03m# this function, and just call forward.\u001b[39;00m\n\u001b[0;32m   1559\u001b[0m \u001b[38;5;28;01mif\u001b[39;00m \u001b[38;5;129;01mnot\u001b[39;00m (\u001b[38;5;28mself\u001b[39m\u001b[38;5;241m.\u001b[39m_backward_hooks \u001b[38;5;129;01mor\u001b[39;00m \u001b[38;5;28mself\u001b[39m\u001b[38;5;241m.\u001b[39m_backward_pre_hooks \u001b[38;5;129;01mor\u001b[39;00m \u001b[38;5;28mself\u001b[39m\u001b[38;5;241m.\u001b[39m_forward_hooks \u001b[38;5;129;01mor\u001b[39;00m \u001b[38;5;28mself\u001b[39m\u001b[38;5;241m.\u001b[39m_forward_pre_hooks\n\u001b[0;32m   1560\u001b[0m         \u001b[38;5;129;01mor\u001b[39;00m _global_backward_pre_hooks \u001b[38;5;129;01mor\u001b[39;00m _global_backward_hooks\n\u001b[0;32m   1561\u001b[0m         \u001b[38;5;129;01mor\u001b[39;00m _global_forward_hooks \u001b[38;5;129;01mor\u001b[39;00m _global_forward_pre_hooks):\n\u001b[1;32m-> 1562\u001b[0m     \u001b[38;5;28;01mreturn\u001b[39;00m forward_call(\u001b[38;5;241m*\u001b[39margs, \u001b[38;5;241m*\u001b[39m\u001b[38;5;241m*\u001b[39mkwargs)\n\u001b[0;32m   1564\u001b[0m \u001b[38;5;28;01mtry\u001b[39;00m:\n\u001b[0;32m   1565\u001b[0m     result \u001b[38;5;241m=\u001b[39m \u001b[38;5;28;01mNone\u001b[39;00m\n",
      "\u001b[1;31mTypeError\u001b[0m: ImageCaptioningModel.forward() got an unexpected keyword argument 'input_ids'"
     ]
    }
   ],
   "source": [
    "# Train the model with the ROCO dataset\n",
    "train_model_mixed_precision(model, train_loader, epochs=5)\n"
   ]
  },
  {
   "cell_type": "code",
   "execution_count": null,
   "id": "95924cff-3d86-478c-ad9d-2fbc220fd922",
   "metadata": {},
   "outputs": [],
   "source": []
  }
 ],
 "metadata": {
  "kernelspec": {
   "display_name": "Python 3 (ipykernel)",
   "language": "python",
   "name": "python3"
  },
  "language_info": {
   "codemirror_mode": {
    "name": "ipython",
    "version": 3
   },
   "file_extension": ".py",
   "mimetype": "text/x-python",
   "name": "python",
   "nbconvert_exporter": "python",
   "pygments_lexer": "ipython3",
   "version": "3.11.9"
  }
 },
 "nbformat": 4,
 "nbformat_minor": 5
}
