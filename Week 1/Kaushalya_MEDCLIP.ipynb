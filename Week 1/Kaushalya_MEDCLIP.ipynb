{
 "cells": [
  {
   "cell_type": "code",
   "execution_count": null,
   "id": "e9309b17-59c4-4adc-86eb-fc52b4c6e606",
   "metadata": {},
   "outputs": [],
   "source": [
    "!pip install \"G:/USER/Documents/GitHub/QL4POMR/Week 1/transformers\""
   ]
  },
  {
   "cell_type": "code",
   "execution_count": null,
   "id": "f5d7f443-2178-433b-9ddc-161500bb1499",
   "metadata": {},
   "outputs": [],
   "source": [
    "!pip install -U --user torch==2.2.2 torchvision==0.17.2 torchaudio==2.2.2 --index-url https://download.pytorch.org/whl/cu121\n",
    "!pip install transformers flax optax"
   ]
  },
  {
   "cell_type": "code",
   "execution_count": null,
   "id": "0a0a6977-5684-4519-b3f5-d586135b4e6e",
   "metadata": {},
   "outputs": [],
   "source": [
    "from medclip.modeling_hybrid_clip import FlaxHybridCLIP\n",
    "\n",
    "model = FlaxHybridCLIP.from_pretrained(\"flax-community/medclip-roco\")"
   ]
  },
  {
   "cell_type": "code",
   "execution_count": null,
   "id": "b1db1bf4-c647-4098-b4ef-788266db61e8",
   "metadata": {},
   "outputs": [],
   "source": []
  }
 ],
 "metadata": {
  "kernelspec": {
   "display_name": "Python 3 (ipykernel)",
   "language": "python",
   "name": "python3"
  },
  "language_info": {
   "codemirror_mode": {
    "name": "ipython",
    "version": 3
   },
   "file_extension": ".py",
   "mimetype": "text/x-python",
   "name": "python",
   "nbconvert_exporter": "python",
   "pygments_lexer": "ipython3",
   "version": "3.11.7"
  }
 },
 "nbformat": 4,
 "nbformat_minor": 5
}
