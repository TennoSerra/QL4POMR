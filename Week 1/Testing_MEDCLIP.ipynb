{
 "cells": [
  {
   "cell_type": "markdown",
   "id": "e34a0e4f-d307-4e3b-b1e7-2ef96febf38d",
   "metadata": {},
   "source": [
    "This notebook was created for testing MEDCLIP"
   ]
  },
  {
   "cell_type": "code",
   "execution_count": null,
   "id": "62c7fff0-0d8d-4a27-bc1f-4de57eed2627",
   "metadata": {},
   "outputs": [],
   "source": []
  }
 ],
 "metadata": {
  "kernelspec": {
   "display_name": "Python 3 (ipykernel)",
   "language": "python",
   "name": "python3"
  },
  "language_info": {
   "codemirror_mode": {
    "name": "ipython",
    "version": 3
   },
   "file_extension": ".py",
   "mimetype": "text/x-python",
   "name": "python",
   "nbconvert_exporter": "python",
   "pygments_lexer": "ipython3",
   "version": "3.11.7"
  }
 },
 "nbformat": 4,
 "nbformat_minor": 5
}
