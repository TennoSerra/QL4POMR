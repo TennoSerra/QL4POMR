{
 "cells": [
  {
   "cell_type": "markdown",
   "id": "9d753713-e4b8-4805-bf62-965324977973",
   "metadata": {},
   "source": [
    "BioMedClip-PubMedBert Example testing"
   ]
  },
  {
   "cell_type": "code",
   "execution_count": 1,
   "id": "196166fa-14e3-4ac3-bca2-8e130f27433b",
   "metadata": {},
   "outputs": [],
   "source": [
    "import numpy as np\n",
    "import pandas as pd"
   ]
  },
  {
   "cell_type": "code",
   "execution_count": 2,
   "id": "dcbe84bd-5ae0-411d-9992-7bca9bb098a8",
   "metadata": {},
   "outputs": [
    {
     "data": {
      "text/html": [
       "<div>\n",
       "<style scoped>\n",
       "    .dataframe tbody tr th:only-of-type {\n",
       "        vertical-align: middle;\n",
       "    }\n",
       "\n",
       "    .dataframe tbody tr th {\n",
       "        vertical-align: top;\n",
       "    }\n",
       "\n",
       "    .dataframe thead th {\n",
       "        text-align: right;\n",
       "    }\n",
       "</style>\n",
       "<table border=\"1\" class=\"dataframe\">\n",
       "  <thead>\n",
       "    <tr style=\"text-align: right;\">\n",
       "      <th></th>\n",
       "      <th>Caption</th>\n",
       "      <th>Image</th>\n",
       "    </tr>\n",
       "  </thead>\n",
       "  <tbody>\n",
       "    <tr>\n",
       "      <th>0</th>\n",
       "      <td>Computed tomography (CT) shows floating thromb...</td>\n",
       "      <td>ROCOv2_2023_test_000002.jpg</td>\n",
       "    </tr>\n",
       "    <tr>\n",
       "      <th>1</th>\n",
       "      <td>Digitally subtracted angiogram demonstrates ac...</td>\n",
       "      <td>ROCOv2_2023_test_000003.jpg</td>\n",
       "    </tr>\n",
       "    <tr>\n",
       "      <th>2</th>\n",
       "      <td>Digitally subtracted angiogram of the IMA demo...</td>\n",
       "      <td>ROCOv2_2023_test_000004.jpg</td>\n",
       "    </tr>\n",
       "    <tr>\n",
       "      <th>3</th>\n",
       "      <td>Angle measurement of a Type 1 canal.</td>\n",
       "      <td>ROCOv2_2023_test_000005.jpg</td>\n",
       "    </tr>\n",
       "    <tr>\n",
       "      <th>4</th>\n",
       "      <td>Computed tomography on day 26Follow-up enhance...</td>\n",
       "      <td>ROCOv2_2023_test_000006.jpg</td>\n",
       "    </tr>\n",
       "  </tbody>\n",
       "</table>\n",
       "</div>"
      ],
      "text/plain": [
       "                                             Caption  \\\n",
       "0  Computed tomography (CT) shows floating thromb...   \n",
       "1  Digitally subtracted angiogram demonstrates ac...   \n",
       "2  Digitally subtracted angiogram of the IMA demo...   \n",
       "3               Angle measurement of a Type 1 canal.   \n",
       "4  Computed tomography on day 26Follow-up enhance...   \n",
       "\n",
       "                         Image  \n",
       "0  ROCOv2_2023_test_000002.jpg  \n",
       "1  ROCOv2_2023_test_000003.jpg  \n",
       "2  ROCOv2_2023_test_000004.jpg  \n",
       "3  ROCOv2_2023_test_000005.jpg  \n",
       "4  ROCOv2_2023_test_000006.jpg  "
      ]
     },
     "execution_count": 2,
     "metadata": {},
     "output_type": "execute_result"
    }
   ],
   "source": [
    "file_path = \"../Datasets/ROCO2/test_images/test/\"\n",
    "# Read the text file into a DataFrame\n",
    "df = pd.read_csv(\"../Datasets/ROCO2/test_captions.csv\", sep=',', header=1, names=['ID', 'Caption'])\n",
    "# Replace the ID column with the Image column\n",
    "df['Image'] = df['ID'] + \".jpg\"\n",
    "# Drop the old ID column\n",
    "df.drop('ID', axis=1, inplace=True)\n",
    "df.head()"
   ]
  },
  {
   "cell_type": "code",
   "execution_count": 7,
   "id": "e0b7cfad-c4a2-48e4-a232-deb940b17d80",
   "metadata": {},
   "outputs": [
    {
     "name": "stdout",
     "output_type": "stream",
     "text": [
      "['image_embeddings', 'labels', 'class_embeddings']\n"
     ]
    }
   ],
   "source": [
    "import numpy as np\n",
    "import torch\n",
    "\n",
    "embeddings_npz = np.load('embeddings/chest-xray-classification/biomedclip-pubmedbert-chuhac_validation.npz')\n",
    "print(list(embeddings_npz.keys()))"
   ]
  },
  {
   "cell_type": "code",
   "execution_count": null,
   "id": "734953f6-b12d-439a-80dd-b3a0c2a04f73",
   "metadata": {},
   "outputs": [],
   "source": [
    "image_embeddings = embeddings_npz['image_embeddings']  \n",
    "class_embeddings = embeddings_npz['class_embeddings']  \n",
    "labels = embeddings_npz['labels']\n",
    "# Convert numpy array to torch tensor\n",
    "embeddings_tensor = torch.tensor(embeddings)\n",
    "\n",
    "# Assuming the model expects input tensors named 'inputs' or similar\n",
    "inputs = {'inputs': embeddings_tensor}\n",
    "\n",
    "# Forward pass through the model\n",
    "outputs = model(**inputs)"
   ]
  },
  {
   "cell_type": "code",
   "execution_count": 39,
   "id": "747bd8ce-8723-4285-ad70-e51c6528e8ca",
   "metadata": {},
   "outputs": [
    {
     "ename": "AttributeError",
     "evalue": "'str' object has no attribute 'device'",
     "output_type": "error",
     "traceback": [
      "\u001b[1;31m---------------------------------------------------------------------------\u001b[0m",
      "\u001b[1;31mAttributeError\u001b[0m                            Traceback (most recent call last)",
      "Cell \u001b[1;32mIn[39], line 22\u001b[0m\n\u001b[0;32m     19\u001b[0m tokenizer \u001b[38;5;241m=\u001b[39m AutoTokenizer\u001b[38;5;241m.\u001b[39mfrom_pretrained(\u001b[38;5;124m\"\u001b[39m\u001b[38;5;124mchuhac/BiomedCLIP-vit-bert-hf\u001b[39m\u001b[38;5;124m\"\u001b[39m)\n\u001b[0;32m     21\u001b[0m \u001b[38;5;66;03m# Initialize CLIP processor with an image processor\u001b[39;00m\n\u001b[1;32m---> 22\u001b[0m image_processor \u001b[38;5;241m=\u001b[39m \u001b[43mFeatureExtractionPipeline\u001b[49m\u001b[43m(\u001b[49m\u001b[43mmodel\u001b[49m\u001b[38;5;241;43m=\u001b[39;49m\u001b[38;5;124;43m\"\u001b[39;49m\u001b[38;5;124;43mclip\u001b[39;49m\u001b[38;5;124;43m\"\u001b[39;49m\u001b[43m,\u001b[49m\u001b[43m \u001b[49m\u001b[43mframework\u001b[49m\u001b[38;5;241;43m=\u001b[39;49m\u001b[38;5;124;43m\"\u001b[39;49m\u001b[38;5;124;43mpt\u001b[39;49m\u001b[38;5;124;43m\"\u001b[39;49m\u001b[43m,\u001b[49m\u001b[43m \u001b[49m\u001b[43mdevice\u001b[49m\u001b[38;5;241;43m=\u001b[39;49m\u001b[43mdevice\u001b[49m\u001b[43m)\u001b[49m\n\u001b[0;32m     24\u001b[0m \u001b[38;5;66;03m# Ensure that the model and processor are on the same device\u001b[39;00m\n\u001b[0;32m     25\u001b[0m device \u001b[38;5;241m=\u001b[39m torch\u001b[38;5;241m.\u001b[39mdevice(\u001b[38;5;124m\"\u001b[39m\u001b[38;5;124mcuda\u001b[39m\u001b[38;5;124m\"\u001b[39m \u001b[38;5;28;01mif\u001b[39;00m torch\u001b[38;5;241m.\u001b[39mcuda\u001b[38;5;241m.\u001b[39mis_available() \u001b[38;5;28;01melse\u001b[39;00m \u001b[38;5;124m\"\u001b[39m\u001b[38;5;124mcpu\u001b[39m\u001b[38;5;124m\"\u001b[39m)\n",
      "File \u001b[1;32mG:\\anaconda3\\envs\\ModeEval\\Lib\\site-packages\\transformers\\pipelines\\base.py:890\u001b[0m, in \u001b[0;36mPipeline.__init__\u001b[1;34m(self, model, tokenizer, feature_extractor, image_processor, modelcard, framework, task, args_parser, device, torch_dtype, binary_output, **kwargs)\u001b[0m\n\u001b[0;32m    886\u001b[0m \u001b[38;5;28mself\u001b[39m\u001b[38;5;241m.\u001b[39mbinary_output \u001b[38;5;241m=\u001b[39m binary_output\n\u001b[0;32m    887\u001b[0m \u001b[38;5;66;03m# We shouldn't call `model.to()` for models loaded with accelerate as well as the case that model is already on device\u001b[39;00m\n\u001b[0;32m    888\u001b[0m \u001b[38;5;28;01mif\u001b[39;00m (\n\u001b[0;32m    889\u001b[0m     \u001b[38;5;28mself\u001b[39m\u001b[38;5;241m.\u001b[39mframework \u001b[38;5;241m==\u001b[39m \u001b[38;5;124m\"\u001b[39m\u001b[38;5;124mpt\u001b[39m\u001b[38;5;124m\"\u001b[39m\n\u001b[1;32m--> 890\u001b[0m     \u001b[38;5;129;01mand\u001b[39;00m \u001b[38;5;28;43mself\u001b[39;49m\u001b[38;5;241;43m.\u001b[39;49m\u001b[43mmodel\u001b[49m\u001b[38;5;241;43m.\u001b[39;49m\u001b[43mdevice\u001b[49m \u001b[38;5;241m!=\u001b[39m \u001b[38;5;28mself\u001b[39m\u001b[38;5;241m.\u001b[39mdevice\n\u001b[0;32m    891\u001b[0m     \u001b[38;5;129;01mand\u001b[39;00m \u001b[38;5;129;01mnot\u001b[39;00m (\u001b[38;5;28misinstance\u001b[39m(\u001b[38;5;28mself\u001b[39m\u001b[38;5;241m.\u001b[39mdevice, \u001b[38;5;28mint\u001b[39m) \u001b[38;5;129;01mand\u001b[39;00m \u001b[38;5;28mself\u001b[39m\u001b[38;5;241m.\u001b[39mdevice \u001b[38;5;241m<\u001b[39m \u001b[38;5;241m0\u001b[39m)\n\u001b[0;32m    892\u001b[0m     \u001b[38;5;129;01mand\u001b[39;00m hf_device_map \u001b[38;5;129;01mis\u001b[39;00m \u001b[38;5;28;01mNone\u001b[39;00m\n\u001b[0;32m    893\u001b[0m ):\n\u001b[0;32m    894\u001b[0m     \u001b[38;5;28mself\u001b[39m\u001b[38;5;241m.\u001b[39mmodel\u001b[38;5;241m.\u001b[39mto(\u001b[38;5;28mself\u001b[39m\u001b[38;5;241m.\u001b[39mdevice)\n\u001b[0;32m    896\u001b[0m \u001b[38;5;66;03m# Update config and generation_config with task specific parameters\u001b[39;00m\n",
      "\u001b[1;31mAttributeError\u001b[0m: 'str' object has no attribute 'device'"
     ]
    }
   ],
   "source": [
    "import torch\n",
    "from transformers import CLIPProcessor, CLIPModel, AutoTokenizer, FeatureExtractionPipeline\n",
    "\n",
    "# Template and labels\n",
    "template = 'this is a photo of '\n",
    "labels = [\n",
    "    'adenocarcinoma histopathology',\n",
    "    'brain MRI',\n",
    "    'covid line chart',\n",
    "    'squamous cell carcinoma histopathology',\n",
    "    'immunohistochemistry histopathology',\n",
    "    'bone X-ray',\n",
    "    'chest X-ray',\n",
    "    'pie chart',\n",
    "    'hematoxylin and eosin histopathology'\n",
    "]\n",
    "\n",
    "# Load tokenizer associated with the model\n",
    "tokenizer = AutoTokenizer.from_pretrained(\"chuhac/BiomedCLIP-vit-bert-hf\")\n",
    "\n",
    "# Initialize CLIP processor with an image processor\n",
    "image_processor = FeatureExtractionPipeline(model=\"clip\", framework=\"pt\", device=device)\n",
    "\n",
    "# Ensure that the model and processor are on the same device\n",
    "device = torch.device(\"cuda\" if torch.cuda.is_available() else \"cpu\")\n",
    "model = CLIPModel.from_pretrained(\"chuhac/BiomedCLIP-vit-bert-hf\").to(device)\n",
    "processor = CLIPProcessor(tokenizer=tokenizer, image_processor=image_processor, device=device)\n",
    "\n",
    "# Test images\n",
    "dataset_url = 'https://huggingface.co/microsoft/BiomedCLIP-PubMedBERT_256-vit_base_patch16_224/resolve/main/example_data/biomed_image_classification_example_data/'\n",
    "test_imgs = [\n",
    "    'squamous_cell_carcinoma_histopathology.jpeg',\n",
    "    'H_and_E_histopathology.jpg',\n",
    "    'bone_X-ray.jpg',\n",
    "    'adenocarcinoma_histopathology.jpg',\n",
    "    'covid_line_chart.png',\n",
    "    'IHC_histopathology.jpg',\n",
    "    'chest_X-ray.jpg',\n",
    "    'brain_MRI.jpg',\n",
    "    'pie_chart.png'\n",
    "]\n",
    "\n",
    "# Generate texts as a list of strings\n",
    "texts = [template + l for l in labels]\n",
    "\n",
    "# Perform zero-shot classification for each image\n",
    "for img_name in test_imgs:\n",
    "    img_url = dataset_url + img_name\n",
    "    \n",
    "    # Encode the image and texts using the processor\n",
    "    inputs = processor(text=texts, images=img_url, return_tensors=\"pt\", padding=True)\n",
    "    \n",
    "    # Perform forward pass\n",
    "    with torch.no_grad():\n",
    "        outputs = model(**inputs)\n",
    "    \n",
    "    # Print results\n",
    "    print(f\"Results for {img_name}:\")\n",
    "    logits_per_image = outputs.logits_per_image\n",
    "    probs = logits_per_image.softmax(dim=1)  # Convert logits to probabilities\n",
    "    for i, (label, prob) in enumerate(zip(labels, probs[0])):\n",
    "        print(f\"{label}: {prob:.4f}\")\n",
    "    print()"
   ]
  },
  {
   "cell_type": "code",
   "execution_count": null,
   "id": "4ef53e46-a29a-41bd-930f-faa285c83302",
   "metadata": {},
   "outputs": [],
   "source": []
  },
  {
   "cell_type": "code",
   "execution_count": null,
   "id": "3daad6df-aedc-4bac-8880-359b2123566f",
   "metadata": {},
   "outputs": [],
   "source": []
  }
 ],
 "metadata": {
  "kernelspec": {
   "display_name": "Python 3 (ipykernel)",
   "language": "python",
   "name": "python3"
  },
  "language_info": {
   "codemirror_mode": {
    "name": "ipython",
    "version": 3
   },
   "file_extension": ".py",
   "mimetype": "text/x-python",
   "name": "python",
   "nbconvert_exporter": "python",
   "pygments_lexer": "ipython3",
   "version": "3.11.9"
  }
 },
 "nbformat": 4,
 "nbformat_minor": 5
}
