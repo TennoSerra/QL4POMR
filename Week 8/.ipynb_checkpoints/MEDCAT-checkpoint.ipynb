{
 "cells": [
  {
   "cell_type": "code",
   "execution_count": 1,
   "id": "9d732e0a-3528-45fc-a81c-aff40a08f9b9",
   "metadata": {},
   "outputs": [
    {
     "name": "stdout",
     "output_type": "stream",
     "text": [
      "Requirement already satisfied: medcat~=1.12.0 in g:\\anaconda3\\envs\\medcat\\lib\\site-packages (1.12.1)\n",
      "Requirement already satisfied: numpy<1.26.0,>=1.22.0 in c:\\users\\ninja\\appdata\\roaming\\python\\python311\\site-packages (from medcat~=1.12.0) (1.24.4)\n",
      "Requirement already satisfied: pandas>=1.4.2 in g:\\anaconda3\\envs\\medcat\\lib\\site-packages (from medcat~=1.12.0) (1.5.3)\n",
      "Requirement already satisfied: gensim<5.0.0,>=4.3.0 in g:\\anaconda3\\envs\\medcat\\lib\\site-packages (from medcat~=1.12.0) (4.3.3)\n",
      "Requirement already satisfied: spacy<4.0.0,>=3.6.0 in g:\\anaconda3\\envs\\medcat\\lib\\site-packages (from medcat~=1.12.0) (3.7.5)\n",
      "Requirement already satisfied: scipy~=1.9.2 in g:\\anaconda3\\envs\\medcat\\lib\\site-packages (from medcat~=1.12.0) (1.9.3)\n",
      "Requirement already satisfied: transformers<5.0.0,>=4.34.0 in g:\\anaconda3\\envs\\medcat\\lib\\site-packages (from medcat~=1.12.0) (4.44.0)\n",
      "Requirement already satisfied: accelerate>=0.23.0 in g:\\anaconda3\\envs\\medcat\\lib\\site-packages (from medcat~=1.12.0) (0.33.0)\n",
      "Requirement already satisfied: torch<3.0.0,>=1.13.0 in g:\\anaconda3\\envs\\medcat\\lib\\site-packages (from medcat~=1.12.0) (2.4.0)\n",
      "Requirement already satisfied: tqdm>=4.27 in g:\\anaconda3\\envs\\medcat\\lib\\site-packages (from medcat~=1.12.0) (4.66.5)\n",
      "Requirement already satisfied: scikit-learn<2.0.0,>=1.1.3 in g:\\anaconda3\\envs\\medcat\\lib\\site-packages (from medcat~=1.12.0) (1.5.1)\n",
      "Requirement already satisfied: dill<1.0.0,>=0.3.6 in g:\\anaconda3\\envs\\medcat\\lib\\site-packages (from medcat~=1.12.0) (0.3.8)\n",
      "Requirement already satisfied: datasets<3.0.0,>=2.2.2 in g:\\anaconda3\\envs\\medcat\\lib\\site-packages (from medcat~=1.12.0) (2.21.0)\n",
      "Requirement already satisfied: jsonpickle>=2.0.0 in g:\\anaconda3\\envs\\medcat\\lib\\site-packages (from medcat~=1.12.0) (3.2.2)\n",
      "Requirement already satisfied: psutil>=5.8.0 in g:\\anaconda3\\envs\\medcat\\lib\\site-packages (from medcat~=1.12.0) (5.9.0)\n",
      "Requirement already satisfied: multiprocess~=0.70.12 in g:\\anaconda3\\envs\\medcat\\lib\\site-packages (from medcat~=1.12.0) (0.70.16)\n",
      "Requirement already satisfied: aiofiles>=0.8.0 in g:\\anaconda3\\envs\\medcat\\lib\\site-packages (from medcat~=1.12.0) (24.1.0)\n",
      "Requirement already satisfied: ipywidgets>=7.6.5 in g:\\anaconda3\\envs\\medcat\\lib\\site-packages (from medcat~=1.12.0) (8.1.3)\n",
      "Requirement already satisfied: xxhash>=3.0.0 in g:\\anaconda3\\envs\\medcat\\lib\\site-packages (from medcat~=1.12.0) (3.4.1)\n",
      "Requirement already satisfied: blis<1.0.0,>=0.7.5 in g:\\anaconda3\\envs\\medcat\\lib\\site-packages (from medcat~=1.12.0) (0.7.11)\n",
      "Requirement already satisfied: click>=8.0.4 in g:\\anaconda3\\envs\\medcat\\lib\\site-packages (from medcat~=1.12.0) (8.1.7)\n",
      "Requirement already satisfied: pydantic<2.0,>=1.10.0 in g:\\anaconda3\\envs\\medcat\\lib\\site-packages (from medcat~=1.12.0) (1.10.17)\n",
      "Requirement already satisfied: humanfriendly~=10.0 in g:\\anaconda3\\envs\\medcat\\lib\\site-packages (from medcat~=1.12.0) (10.0)\n",
      "Requirement already satisfied: peft>=0.8.2 in g:\\anaconda3\\envs\\medcat\\lib\\site-packages (from medcat~=1.12.0) (0.12.0)\n",
      "Requirement already satisfied: packaging>=20.0 in g:\\anaconda3\\envs\\medcat\\lib\\site-packages (from accelerate>=0.23.0->medcat~=1.12.0) (24.1)\n",
      "Requirement already satisfied: pyyaml in g:\\anaconda3\\envs\\medcat\\lib\\site-packages (from accelerate>=0.23.0->medcat~=1.12.0) (6.0.1)\n",
      "Requirement already satisfied: huggingface-hub>=0.21.0 in g:\\anaconda3\\envs\\medcat\\lib\\site-packages (from accelerate>=0.23.0->medcat~=1.12.0) (0.24.5)\n",
      "Requirement already satisfied: safetensors>=0.3.1 in g:\\anaconda3\\envs\\medcat\\lib\\site-packages (from accelerate>=0.23.0->medcat~=1.12.0) (0.4.4)\n",
      "Requirement already satisfied: colorama in g:\\anaconda3\\envs\\medcat\\lib\\site-packages (from click>=8.0.4->medcat~=1.12.0) (0.4.6)\n",
      "Requirement already satisfied: filelock in g:\\anaconda3\\envs\\medcat\\lib\\site-packages (from datasets<3.0.0,>=2.2.2->medcat~=1.12.0) (3.15.4)\n",
      "Requirement already satisfied: pyarrow>=15.0.0 in g:\\anaconda3\\envs\\medcat\\lib\\site-packages (from datasets<3.0.0,>=2.2.2->medcat~=1.12.0) (17.0.0)\n",
      "Requirement already satisfied: requests>=2.32.2 in g:\\anaconda3\\envs\\medcat\\lib\\site-packages (from datasets<3.0.0,>=2.2.2->medcat~=1.12.0) (2.32.3)\n",
      "Requirement already satisfied: fsspec<=2024.6.1,>=2023.1.0 in g:\\anaconda3\\envs\\medcat\\lib\\site-packages (from fsspec[http]<=2024.6.1,>=2023.1.0->datasets<3.0.0,>=2.2.2->medcat~=1.12.0) (2024.6.1)\n",
      "Requirement already satisfied: aiohttp in g:\\anaconda3\\envs\\medcat\\lib\\site-packages (from datasets<3.0.0,>=2.2.2->medcat~=1.12.0) (3.10.3)\n",
      "Requirement already satisfied: smart-open>=1.8.1 in g:\\anaconda3\\envs\\medcat\\lib\\site-packages (from gensim<5.0.0,>=4.3.0->medcat~=1.12.0) (7.0.4)\n",
      "Requirement already satisfied: pyreadline3 in g:\\anaconda3\\envs\\medcat\\lib\\site-packages (from humanfriendly~=10.0->medcat~=1.12.0) (3.4.1)\n",
      "Requirement already satisfied: comm>=0.1.3 in g:\\anaconda3\\envs\\medcat\\lib\\site-packages (from ipywidgets>=7.6.5->medcat~=1.12.0) (0.2.1)\n",
      "Requirement already satisfied: ipython>=6.1.0 in g:\\anaconda3\\envs\\medcat\\lib\\site-packages (from ipywidgets>=7.6.5->medcat~=1.12.0) (8.25.0)\n",
      "Requirement already satisfied: traitlets>=4.3.1 in g:\\anaconda3\\envs\\medcat\\lib\\site-packages (from ipywidgets>=7.6.5->medcat~=1.12.0) (5.14.3)\n",
      "Requirement already satisfied: widgetsnbextension~=4.0.11 in g:\\anaconda3\\envs\\medcat\\lib\\site-packages (from ipywidgets>=7.6.5->medcat~=1.12.0) (4.0.11)\n",
      "Requirement already satisfied: jupyterlab-widgets~=3.0.11 in g:\\anaconda3\\envs\\medcat\\lib\\site-packages (from ipywidgets>=7.6.5->medcat~=1.12.0) (3.0.11)\n",
      "Requirement already satisfied: python-dateutil>=2.8.1 in g:\\anaconda3\\envs\\medcat\\lib\\site-packages (from pandas>=1.4.2->medcat~=1.12.0) (2.9.0.post0)\n",
      "Requirement already satisfied: pytz>=2020.1 in g:\\anaconda3\\envs\\medcat\\lib\\site-packages (from pandas>=1.4.2->medcat~=1.12.0) (2024.1)\n",
      "Requirement already satisfied: typing-extensions>=4.2.0 in g:\\anaconda3\\envs\\medcat\\lib\\site-packages (from pydantic<2.0,>=1.10.0->medcat~=1.12.0) (4.11.0)\n",
      "Requirement already satisfied: joblib>=1.2.0 in g:\\anaconda3\\envs\\medcat\\lib\\site-packages (from scikit-learn<2.0.0,>=1.1.3->medcat~=1.12.0) (1.4.2)\n",
      "Requirement already satisfied: threadpoolctl>=3.1.0 in g:\\anaconda3\\envs\\medcat\\lib\\site-packages (from scikit-learn<2.0.0,>=1.1.3->medcat~=1.12.0) (3.5.0)\n",
      "Requirement already satisfied: spacy-legacy<3.1.0,>=3.0.11 in g:\\anaconda3\\envs\\medcat\\lib\\site-packages (from spacy<4.0.0,>=3.6.0->medcat~=1.12.0) (3.0.12)\n",
      "Requirement already satisfied: spacy-loggers<2.0.0,>=1.0.0 in g:\\anaconda3\\envs\\medcat\\lib\\site-packages (from spacy<4.0.0,>=3.6.0->medcat~=1.12.0) (1.0.5)\n",
      "Requirement already satisfied: murmurhash<1.1.0,>=0.28.0 in g:\\anaconda3\\envs\\medcat\\lib\\site-packages (from spacy<4.0.0,>=3.6.0->medcat~=1.12.0) (1.0.10)\n",
      "Requirement already satisfied: cymem<2.1.0,>=2.0.2 in g:\\anaconda3\\envs\\medcat\\lib\\site-packages (from spacy<4.0.0,>=3.6.0->medcat~=1.12.0) (2.0.8)\n",
      "Requirement already satisfied: preshed<3.1.0,>=3.0.2 in g:\\anaconda3\\envs\\medcat\\lib\\site-packages (from spacy<4.0.0,>=3.6.0->medcat~=1.12.0) (3.0.9)\n",
      "Requirement already satisfied: thinc<8.3.0,>=8.2.2 in g:\\anaconda3\\envs\\medcat\\lib\\site-packages (from spacy<4.0.0,>=3.6.0->medcat~=1.12.0) (8.2.5)\n",
      "Requirement already satisfied: wasabi<1.2.0,>=0.9.1 in g:\\anaconda3\\envs\\medcat\\lib\\site-packages (from spacy<4.0.0,>=3.6.0->medcat~=1.12.0) (1.1.3)\n",
      "Requirement already satisfied: srsly<3.0.0,>=2.4.3 in g:\\anaconda3\\envs\\medcat\\lib\\site-packages (from spacy<4.0.0,>=3.6.0->medcat~=1.12.0) (2.4.8)\n",
      "Requirement already satisfied: catalogue<2.1.0,>=2.0.6 in g:\\anaconda3\\envs\\medcat\\lib\\site-packages (from spacy<4.0.0,>=3.6.0->medcat~=1.12.0) (2.0.10)\n",
      "Requirement already satisfied: weasel<0.5.0,>=0.1.0 in g:\\anaconda3\\envs\\medcat\\lib\\site-packages (from spacy<4.0.0,>=3.6.0->medcat~=1.12.0) (0.4.1)\n",
      "Requirement already satisfied: typer<1.0.0,>=0.3.0 in g:\\anaconda3\\envs\\medcat\\lib\\site-packages (from spacy<4.0.0,>=3.6.0->medcat~=1.12.0) (0.12.3)\n",
      "Requirement already satisfied: jinja2 in g:\\anaconda3\\envs\\medcat\\lib\\site-packages (from spacy<4.0.0,>=3.6.0->medcat~=1.12.0) (3.1.4)\n",
      "Requirement already satisfied: setuptools in g:\\anaconda3\\envs\\medcat\\lib\\site-packages (from spacy<4.0.0,>=3.6.0->medcat~=1.12.0) (72.1.0)\n",
      "Requirement already satisfied: langcodes<4.0.0,>=3.2.0 in g:\\anaconda3\\envs\\medcat\\lib\\site-packages (from spacy<4.0.0,>=3.6.0->medcat~=1.12.0) (3.4.0)\n",
      "Requirement already satisfied: sympy in g:\\anaconda3\\envs\\medcat\\lib\\site-packages (from torch<3.0.0,>=1.13.0->medcat~=1.12.0) (1.13.2)\n",
      "Requirement already satisfied: networkx in g:\\anaconda3\\envs\\medcat\\lib\\site-packages (from torch<3.0.0,>=1.13.0->medcat~=1.12.0) (3.3)\n",
      "Requirement already satisfied: regex!=2019.12.17 in g:\\anaconda3\\envs\\medcat\\lib\\site-packages (from transformers<5.0.0,>=4.34.0->medcat~=1.12.0) (2024.7.24)\n",
      "Requirement already satisfied: tokenizers<0.20,>=0.19 in g:\\anaconda3\\envs\\medcat\\lib\\site-packages (from transformers<5.0.0,>=4.34.0->medcat~=1.12.0) (0.19.1)\n",
      "Requirement already satisfied: aiohappyeyeballs>=2.3.0 in g:\\anaconda3\\envs\\medcat\\lib\\site-packages (from aiohttp->datasets<3.0.0,>=2.2.2->medcat~=1.12.0) (2.3.6)\n",
      "Requirement already satisfied: aiosignal>=1.1.2 in g:\\anaconda3\\envs\\medcat\\lib\\site-packages (from aiohttp->datasets<3.0.0,>=2.2.2->medcat~=1.12.0) (1.3.1)\n",
      "Requirement already satisfied: attrs>=17.3.0 in g:\\anaconda3\\envs\\medcat\\lib\\site-packages (from aiohttp->datasets<3.0.0,>=2.2.2->medcat~=1.12.0) (23.1.0)\n",
      "Requirement already satisfied: frozenlist>=1.1.1 in g:\\anaconda3\\envs\\medcat\\lib\\site-packages (from aiohttp->datasets<3.0.0,>=2.2.2->medcat~=1.12.0) (1.4.1)\n",
      "Requirement already satisfied: multidict<7.0,>=4.5 in g:\\anaconda3\\envs\\medcat\\lib\\site-packages (from aiohttp->datasets<3.0.0,>=2.2.2->medcat~=1.12.0) (6.0.5)\n",
      "Requirement already satisfied: yarl<2.0,>=1.0 in g:\\anaconda3\\envs\\medcat\\lib\\site-packages (from aiohttp->datasets<3.0.0,>=2.2.2->medcat~=1.12.0) (1.9.4)\n",
      "Requirement already satisfied: decorator in g:\\anaconda3\\envs\\medcat\\lib\\site-packages (from ipython>=6.1.0->ipywidgets>=7.6.5->medcat~=1.12.0) (5.1.1)\n",
      "Requirement already satisfied: jedi>=0.16 in g:\\anaconda3\\envs\\medcat\\lib\\site-packages (from ipython>=6.1.0->ipywidgets>=7.6.5->medcat~=1.12.0) (0.19.1)\n",
      "Requirement already satisfied: matplotlib-inline in g:\\anaconda3\\envs\\medcat\\lib\\site-packages (from ipython>=6.1.0->ipywidgets>=7.6.5->medcat~=1.12.0) (0.1.6)\n",
      "Requirement already satisfied: prompt-toolkit<3.1.0,>=3.0.41 in g:\\anaconda3\\envs\\medcat\\lib\\site-packages (from ipython>=6.1.0->ipywidgets>=7.6.5->medcat~=1.12.0) (3.0.43)\n",
      "Requirement already satisfied: pygments>=2.4.0 in g:\\anaconda3\\envs\\medcat\\lib\\site-packages (from ipython>=6.1.0->ipywidgets>=7.6.5->medcat~=1.12.0) (2.15.1)\n",
      "Requirement already satisfied: stack-data in g:\\anaconda3\\envs\\medcat\\lib\\site-packages (from ipython>=6.1.0->ipywidgets>=7.6.5->medcat~=1.12.0) (0.2.0)\n",
      "Requirement already satisfied: language-data>=1.2 in g:\\anaconda3\\envs\\medcat\\lib\\site-packages (from langcodes<4.0.0,>=3.2.0->spacy<4.0.0,>=3.6.0->medcat~=1.12.0) (1.2.0)\n",
      "Requirement already satisfied: six>=1.5 in g:\\anaconda3\\envs\\medcat\\lib\\site-packages (from python-dateutil>=2.8.1->pandas>=1.4.2->medcat~=1.12.0) (1.16.0)\n",
      "Requirement already satisfied: charset-normalizer<4,>=2 in g:\\anaconda3\\envs\\medcat\\lib\\site-packages (from requests>=2.32.2->datasets<3.0.0,>=2.2.2->medcat~=1.12.0) (3.3.2)\n",
      "Requirement already satisfied: idna<4,>=2.5 in g:\\anaconda3\\envs\\medcat\\lib\\site-packages (from requests>=2.32.2->datasets<3.0.0,>=2.2.2->medcat~=1.12.0) (3.7)\n",
      "Requirement already satisfied: urllib3<3,>=1.21.1 in g:\\anaconda3\\envs\\medcat\\lib\\site-packages (from requests>=2.32.2->datasets<3.0.0,>=2.2.2->medcat~=1.12.0) (2.2.2)\n",
      "Requirement already satisfied: certifi>=2017.4.17 in g:\\anaconda3\\envs\\medcat\\lib\\site-packages (from requests>=2.32.2->datasets<3.0.0,>=2.2.2->medcat~=1.12.0) (2024.7.4)\n",
      "Requirement already satisfied: wrapt in g:\\anaconda3\\envs\\medcat\\lib\\site-packages (from smart-open>=1.8.1->gensim<5.0.0,>=4.3.0->medcat~=1.12.0) (1.16.0)\n",
      "Requirement already satisfied: confection<1.0.0,>=0.0.1 in g:\\anaconda3\\envs\\medcat\\lib\\site-packages (from thinc<8.3.0,>=8.2.2->spacy<4.0.0,>=3.6.0->medcat~=1.12.0) (0.1.5)\n",
      "Requirement already satisfied: shellingham>=1.3.0 in g:\\anaconda3\\envs\\medcat\\lib\\site-packages (from typer<1.0.0,>=0.3.0->spacy<4.0.0,>=3.6.0->medcat~=1.12.0) (1.5.4)\n",
      "Requirement already satisfied: rich>=10.11.0 in g:\\anaconda3\\envs\\medcat\\lib\\site-packages (from typer<1.0.0,>=0.3.0->spacy<4.0.0,>=3.6.0->medcat~=1.12.0) (13.7.1)\n",
      "Requirement already satisfied: cloudpathlib<1.0.0,>=0.7.0 in g:\\anaconda3\\envs\\medcat\\lib\\site-packages (from weasel<0.5.0,>=0.1.0->spacy<4.0.0,>=3.6.0->medcat~=1.12.0) (0.18.1)\n",
      "Requirement already satisfied: MarkupSafe>=2.0 in g:\\anaconda3\\envs\\medcat\\lib\\site-packages (from jinja2->spacy<4.0.0,>=3.6.0->medcat~=1.12.0) (2.1.3)\n",
      "Requirement already satisfied: mpmath<1.4,>=1.1.0 in g:\\anaconda3\\envs\\medcat\\lib\\site-packages (from sympy->torch<3.0.0,>=1.13.0->medcat~=1.12.0) (1.3.0)\n",
      "Requirement already satisfied: parso<0.9.0,>=0.8.3 in g:\\anaconda3\\envs\\medcat\\lib\\site-packages (from jedi>=0.16->ipython>=6.1.0->ipywidgets>=7.6.5->medcat~=1.12.0) (0.8.3)\n",
      "Requirement already satisfied: marisa-trie>=0.7.7 in g:\\anaconda3\\envs\\medcat\\lib\\site-packages (from language-data>=1.2->langcodes<4.0.0,>=3.2.0->spacy<4.0.0,>=3.6.0->medcat~=1.12.0) (1.2.0)\n",
      "Requirement already satisfied: wcwidth in g:\\anaconda3\\envs\\medcat\\lib\\site-packages (from prompt-toolkit<3.1.0,>=3.0.41->ipython>=6.1.0->ipywidgets>=7.6.5->medcat~=1.12.0) (0.2.5)\n",
      "Requirement already satisfied: markdown-it-py>=2.2.0 in g:\\anaconda3\\envs\\medcat\\lib\\site-packages (from rich>=10.11.0->typer<1.0.0,>=0.3.0->spacy<4.0.0,>=3.6.0->medcat~=1.12.0) (3.0.0)\n",
      "Requirement already satisfied: executing in g:\\anaconda3\\envs\\medcat\\lib\\site-packages (from stack-data->ipython>=6.1.0->ipywidgets>=7.6.5->medcat~=1.12.0) (0.8.3)\n",
      "Requirement already satisfied: asttokens in g:\\anaconda3\\envs\\medcat\\lib\\site-packages (from stack-data->ipython>=6.1.0->ipywidgets>=7.6.5->medcat~=1.12.0) (2.0.5)\n",
      "Requirement already satisfied: pure-eval in g:\\anaconda3\\envs\\medcat\\lib\\site-packages (from stack-data->ipython>=6.1.0->ipywidgets>=7.6.5->medcat~=1.12.0) (0.2.2)\n",
      "Requirement already satisfied: mdurl~=0.1 in g:\\anaconda3\\envs\\medcat\\lib\\site-packages (from markdown-it-py>=2.2.0->rich>=10.11.0->typer<1.0.0,>=0.3.0->spacy<4.0.0,>=3.6.0->medcat~=1.12.0) (0.1.2)\n"
     ]
    },
    {
     "name": "stderr",
     "output_type": "stream",
     "text": [
      "G:\\anaconda3\\envs\\MEDCAT\\Lib\\site-packages\\medcat\\cat.py:17: TqdmExperimentalWarning: Using `tqdm.autonotebook.tqdm` in notebook mode. Use `tqdm.tqdm` instead to force console mode (e.g. in jupyter console)\n",
      "  from tqdm.autonotebook import tqdm, trange\n"
     ]
    }
   ],
   "source": [
    "# Install medcat\n",
    "! pip install medcat~=1.12.0\n",
    "try:\n",
    "    from medcat.cat import CAT\n",
    "except:\n",
    "    print(\"WARNING: Runtime will restart automatically and please run other cells thereafter.\")\n",
    "    exit()"
   ]
  },
  {
   "cell_type": "code",
   "execution_count": 7,
   "id": "ba313ce1-a047-431c-89a7-1f0cf136e80d",
   "metadata": {},
   "outputs": [],
   "source": [
    "from medcat.cat import CAT\n",
    "\n",
    "def highlight_entities(text, model_path):\n",
    "    # Load the model pack\n",
    "    cat = CAT.load_model_pack(model_path)\n",
    "\n",
    "    # Define color codes\n",
    "    START_COLOR = \"\\033[91m\"  # Red color\n",
    "    END_COLOR = \"\\033[0m\"     # Reset color\n",
    "\n",
    "    # Extract entities\n",
    "    entities = cat.get_entities(text)\n",
    "\n",
    "    # Highlight the entities in the original text\n",
    "    highlighted_text = text\n",
    "    offset = 0  # to track the shift in indices due to inserted color codes\n",
    "    for entity in entities['entities'].values():\n",
    "        start = entity['start'] + offset\n",
    "        end = entity['end'] + offset\n",
    "        highlighted_text = (highlighted_text[:start] +\n",
    "                            START_COLOR +\n",
    "                            highlighted_text[start:end] +\n",
    "                            END_COLOR +\n",
    "                            highlighted_text[end:])\n",
    "        offset += len(START_COLOR) + len(END_COLOR)  # update offset due to added color codes\n",
    "\n",
    "    return highlighted_text\n",
    "\n",
    "model = \"../Models/umls_sm_pt2ch_533bab5115c6c2d6.zip\"\n",
    "text = \"Chest CT scan of a novel false-negative PC patient. A 44-year-old nonsmoking female with a ground-glass opacity in the left lower lung showed false-negative CrAg LFA detection in the lung aspirate after CT-guided percutaneous lung biopsy. No suitable pathological tissue was obtained and the patient eventually underwent thoracoscopic surgery and was diagnosed with PC. CrAg = cryptococcal capsular polysaccharide antigen, CT = computed tomography, LFA = lateral flow immunoassay, PC = pulmonary cryptococcosis.\""
   ]
  },
  {
   "cell_type": "code",
   "execution_count": 8,
   "id": "a7365acd-aa49-4f85-b249-73ac8a12ef3c",
   "metadata": {},
   "outputs": [
    {
     "name": "stdout",
     "output_type": "stream",
     "text": [
      "Highlighted Text: \u001b[91mChest\u001b[0m CT \u001b[91mscan\u001b[0m of a novel \u001b[91mfalse-negative\u001b[0m PC patient. A 44-year-old nonsmoking female with a \u001b[91mground-glass opacity\u001b[0m in the left lower \u001b[91mlung\u001b[0m showed \u001b[91mfalse-negative\u001b[0m CrAg LFA detection in the \u001b[91mlung\u001b[0m aspirate after CT-guided percutaneous \u001b[91mlung\u001b[0m biopsy. No suitable pathological tissue was obtained and the patient eventually underwent thoracoscopic \u001b[91msurgery\u001b[0m and was diagnosed with PC. CrAg = cryptococcal capsular polysaccharide antigen, CT = computed tomography, LFA = lateral flow immunoassay, PC = \u001b[91mpulmonary cryptococcosis\u001b[0m.\n"
     ]
    }
   ],
   "source": [
    "highlighted_text = highlight_entities(text, model)\n",
    "print(\"Highlighted Text:\", highlighted_text)"
   ]
  },
  {
   "cell_type": "code",
   "execution_count": null,
   "id": "5534c844-99f5-4809-b013-064ead3f8aaf",
   "metadata": {},
   "outputs": [],
   "source": []
  }
 ],
 "metadata": {
  "kernelspec": {
   "display_name": "Python 3 (ipykernel)",
   "language": "python",
   "name": "python3"
  },
  "language_info": {
   "codemirror_mode": {
    "name": "ipython",
    "version": 3
   },
   "file_extension": ".py",
   "mimetype": "text/x-python",
   "name": "python",
   "nbconvert_exporter": "python",
   "pygments_lexer": "ipython3",
   "version": "3.11.9"
  }
 },
 "nbformat": 4,
 "nbformat_minor": 5
}
