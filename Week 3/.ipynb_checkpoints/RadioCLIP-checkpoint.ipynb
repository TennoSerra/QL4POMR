{
 "cells": [
  {
   "cell_type": "code",
   "execution_count": 8,
   "id": "50aec6ce-4eb4-4bc8-a205-3bfb14130b4a",
   "metadata": {},
   "outputs": [
    {
     "name": "stderr",
     "output_type": "stream",
     "text": [
      "[nltk_data] Downloading package punkt to\n",
      "[nltk_data]     C:\\Users\\ninja\\AppData\\Roaming\\nltk_data...\n",
      "[nltk_data]   Package punkt is already up-to-date!\n",
      "[nltk_data] Downloading package stopwords to\n",
      "[nltk_data]     C:\\Users\\ninja\\AppData\\Roaming\\nltk_data...\n",
      "[nltk_data]   Package stopwords is already up-to-date!\n"
     ]
    },
    {
     "data": {
      "text/plain": [
       "True"
      ]
     },
     "execution_count": 8,
     "metadata": {},
     "output_type": "execute_result"
    }
   ],
   "source": [
    "import os\n",
    "import pandas as pd\n",
    "from PIL import Image\n",
    "from torch.utils.data import Dataset, DataLoader\n",
    "import clip\n",
    "import torch\n",
    "import re\n",
    "import nltk\n",
    "from nltk.corpus import stopwords\n",
    "from nltk.tokenize import word_tokenize\n",
    "nltk.download('punkt')\n",
    "nltk.download('stopwords')"
   ]
  },
  {
   "cell_type": "markdown",
   "id": "5da6f698-7faa-4f0a-a2ea-614a713e3013",
   "metadata": {},
   "source": [
    "Loading Training Dataset"
   ]
  },
  {
   "cell_type": "code",
   "execution_count": 2,
   "id": "3631ee42-c52c-4464-9d03-a74e42d9c2e1",
   "metadata": {
    "scrolled": true
   },
   "outputs": [
    {
     "data": {
      "text/html": [
       "<div>\n",
       "<style scoped>\n",
       "    .dataframe tbody tr th:only-of-type {\n",
       "        vertical-align: middle;\n",
       "    }\n",
       "\n",
       "    .dataframe tbody tr th {\n",
       "        vertical-align: top;\n",
       "    }\n",
       "\n",
       "    .dataframe thead th {\n",
       "        text-align: right;\n",
       "    }\n",
       "</style>\n",
       "<table border=\"1\" class=\"dataframe\">\n",
       "  <thead>\n",
       "    <tr style=\"text-align: right;\">\n",
       "      <th></th>\n",
       "      <th>Caption</th>\n",
       "      <th>Image</th>\n",
       "    </tr>\n",
       "  </thead>\n",
       "  <tbody>\n",
       "    <tr>\n",
       "      <th>0</th>\n",
       "      <td>Head CT demonstrating left parotiditis.</td>\n",
       "      <td>ROCOv2_2023_train_000001.jpg</td>\n",
       "    </tr>\n",
       "    <tr>\n",
       "      <th>1</th>\n",
       "      <td>Acquired renal cysts in end-stage renal failur...</td>\n",
       "      <td>ROCOv2_2023_train_000002.jpg</td>\n",
       "    </tr>\n",
       "    <tr>\n",
       "      <th>2</th>\n",
       "      <td>Computed tomography of the chest showing the r...</td>\n",
       "      <td>ROCOv2_2023_train_000003.jpg</td>\n",
       "    </tr>\n",
       "    <tr>\n",
       "      <th>3</th>\n",
       "      <td>Lateral view of the sacrum showing the low con...</td>\n",
       "      <td>ROCOv2_2023_train_000004.jpg</td>\n",
       "    </tr>\n",
       "    <tr>\n",
       "      <th>4</th>\n",
       "      <td>Thoracic CT scan showing perihilar pulmonary l...</td>\n",
       "      <td>ROCOv2_2023_train_000005.jpg</td>\n",
       "    </tr>\n",
       "  </tbody>\n",
       "</table>\n",
       "</div>"
      ],
      "text/plain": [
       "                                             Caption  \\\n",
       "0            Head CT demonstrating left parotiditis.   \n",
       "1  Acquired renal cysts in end-stage renal failur...   \n",
       "2  Computed tomography of the chest showing the r...   \n",
       "3  Lateral view of the sacrum showing the low con...   \n",
       "4  Thoracic CT scan showing perihilar pulmonary l...   \n",
       "\n",
       "                          Image  \n",
       "0  ROCOv2_2023_train_000001.jpg  \n",
       "1  ROCOv2_2023_train_000002.jpg  \n",
       "2  ROCOv2_2023_train_000003.jpg  \n",
       "3  ROCOv2_2023_train_000004.jpg  \n",
       "4  ROCOv2_2023_train_000005.jpg  "
      ]
     },
     "execution_count": 2,
     "metadata": {},
     "output_type": "execute_result"
    }
   ],
   "source": [
    "data_directory = \"../QL4POMR/Datasets/ROCO2/\"\n",
    "df_train = pd.read_csv(data_directory+\"train_captions.csv\")\n",
    "df_train['Image'] = df_train['ID'] + '.jpg'\n",
    "df_train = df_train.drop(columns=['ID'])\n",
    "df_train.head()"
   ]
  },
  {
   "cell_type": "code",
   "execution_count": 9,
   "id": "af39464f-115f-45dd-b4c5-070a250e6865",
   "metadata": {},
   "outputs": [],
   "source": [
    "# Define the preprocessing function\n",
    "def preprocess_caption(caption):\n",
    "    caption = caption.lower()\n",
    "    caption = re.sub(r'[^\\w\\s]', '', caption)\n",
    "    tokens = word_tokenize(caption)\n",
    "    stop_words = set(stopwords.words('english'))\n",
    "    tokens = [word for word in tokens if word not in stop_words]\n",
    "    preprocessed_caption = ' '.join(tokens)\n",
    "    return preprocessed_caption"
   ]
  },
  {
   "cell_type": "code",
   "execution_count": 10,
   "id": "0367ca74-058b-4eaa-a530-f7fdaa187c41",
   "metadata": {},
   "outputs": [
    {
     "name": "stdout",
     "output_type": "stream",
     "text": [
      "                                             Caption  \\\n",
      "0             head ct demonstrating left parotiditis   \n",
      "1  acquired renal cysts endstage renal failure 16...   \n",
      "2  computed tomography chest showing right breast...   \n",
      "3  lateral view sacrum showing low contrast bone ...   \n",
      "4  thoracic ct scan showing perihilar pulmonary l...   \n",
      "\n",
      "                          Image  \n",
      "0  ROCOv2_2023_train_000001.jpg  \n",
      "1  ROCOv2_2023_train_000002.jpg  \n",
      "2  ROCOv2_2023_train_000003.jpg  \n",
      "3  ROCOv2_2023_train_000004.jpg  \n",
      "4  ROCOv2_2023_train_000005.jpg  \n"
     ]
    }
   ],
   "source": [
    "# Apply preprocessing to the captions\n",
    "df_train['Caption'] = df_train['Caption'].apply(preprocess_caption)\n",
    "df_train.head()"
   ]
  },
  {
   "cell_type": "code",
   "execution_count": 3,
   "id": "4cc0fd86-5ffe-4748-b95a-0596cb2b233a",
   "metadata": {},
   "outputs": [],
   "source": [
    "class ROCO2Dataset(Dataset):\n",
    "    def __init__(self, dataframe, image_dir, transform=None):\n",
    "        self.dataframe = dataframe\n",
    "        self.image_dir = image_dir\n",
    "        self.transform = transform\n",
    "\n",
    "    def __len__(self):\n",
    "        return len(self.dataframe)\n",
    "\n",
    "    def __getitem__(self, idx):\n",
    "        img_name = os.path.join(self.image_dir, self.dataframe.iloc[idx, 1])\n",
    "        image = Image.open(img_name).convert(\"RGB\")\n",
    "        caption = self.dataframe.iloc[idx, 0]\n",
    "\n",
    "        if self.transform:\n",
    "            image = self.transform(image)\n",
    "        \n",
    "        return image, caption"
   ]
  },
  {
   "cell_type": "code",
   "execution_count": 6,
   "id": "d4ef6885-e83d-4c4c-86ac-7a04948b80e3",
   "metadata": {},
   "outputs": [],
   "source": [
    "# Prepare dataset and dataloader\n",
    "device = \"cuda\" if torch.cuda.is_available() else \"cpu\"\n",
    "model, preprocess = clip.load(\"ViT-B/32\", device=device)\n",
    "\n",
    "# Modify dataset to use CLIP's preprocessing\n",
    "dataset = ROCO2Dataset(df_train, data_directory+\"train_images/train/\", transform=preprocess)\n",
    "dataloader = DataLoader(dataset, batch_size=32, shuffle=True)\n",
    "\n",
    "# Define the optimizer\n",
    "optimizer = torch.optim.Adam(model.parameters(), lr=1e-4)"
   ]
  },
  {
   "cell_type": "code",
   "execution_count": 7,
   "id": "1ee971b2-faa4-4da0-aad0-2bae00f315cd",
   "metadata": {},
   "outputs": [
    {
     "name": "stderr",
     "output_type": "stream",
     "text": [
      "C:\\Users\\ninja\\AppData\\Roaming\\Python\\Python311\\site-packages\\torch\\nn\\functional.py:5476: UserWarning: 1Torch was not compiled with flash attention. (Triggered internally at ..\\aten\\src\\ATen\\native\\transformers\\cuda\\sdp_utils.cpp:263.)\n",
      "  attn_output = scaled_dot_product_attention(q, k, v, attn_mask, dropout_p, is_causal)\n"
     ]
    },
    {
     "ename": "RuntimeError",
     "evalue": "Input Computed tomography (CT) of the chest. Numerous enlarged lymph nodes can be seen within the mediastinum. The largest is in the sub-carinal area measuring 3.1 cm x 4.0 cm. The second largest is in the right peritracheal area measuring 2.1 cm x 2.6 cm. Enlarged lymph nodes are also seen within each hilum, left greater than right. is too long for context length 77",
     "output_type": "error",
     "traceback": [
      "\u001b[1;31m---------------------------------------------------------------------------\u001b[0m",
      "\u001b[1;31mRuntimeError\u001b[0m                              Traceback (most recent call last)",
      "Cell \u001b[1;32mIn[7], line 8\u001b[0m\n\u001b[0;32m      6\u001b[0m \u001b[38;5;28;01mfor\u001b[39;00m images, texts \u001b[38;5;129;01min\u001b[39;00m dataloader:\n\u001b[0;32m      7\u001b[0m     images \u001b[38;5;241m=\u001b[39m images\u001b[38;5;241m.\u001b[39mto(device)\n\u001b[1;32m----> 8\u001b[0m     texts \u001b[38;5;241m=\u001b[39m clip\u001b[38;5;241m.\u001b[39mtokenize(texts)\u001b[38;5;241m.\u001b[39mto(device)\n\u001b[0;32m     10\u001b[0m     optimizer\u001b[38;5;241m.\u001b[39mzero_grad()\n\u001b[0;32m     11\u001b[0m     logits_per_image, logits_per_text \u001b[38;5;241m=\u001b[39m model(images, texts)\n",
      "File \u001b[1;32mG:\\anaconda3\\Lib\\site-packages\\clip\\clip.py:242\u001b[0m, in \u001b[0;36mtokenize\u001b[1;34m(texts, context_length, truncate)\u001b[0m\n\u001b[0;32m    240\u001b[0m             tokens[\u001b[38;5;241m-\u001b[39m\u001b[38;5;241m1\u001b[39m] \u001b[38;5;241m=\u001b[39m eot_token\n\u001b[0;32m    241\u001b[0m         \u001b[38;5;28;01melse\u001b[39;00m:\n\u001b[1;32m--> 242\u001b[0m             \u001b[38;5;28;01mraise\u001b[39;00m \u001b[38;5;167;01mRuntimeError\u001b[39;00m(\u001b[38;5;124mf\u001b[39m\u001b[38;5;124m\"\u001b[39m\u001b[38;5;124mInput \u001b[39m\u001b[38;5;132;01m{\u001b[39;00mtexts[i]\u001b[38;5;132;01m}\u001b[39;00m\u001b[38;5;124m is too long for context length \u001b[39m\u001b[38;5;132;01m{\u001b[39;00mcontext_length\u001b[38;5;132;01m}\u001b[39;00m\u001b[38;5;124m\"\u001b[39m)\n\u001b[0;32m    243\u001b[0m     result[i, :\u001b[38;5;28mlen\u001b[39m(tokens)] \u001b[38;5;241m=\u001b[39m torch\u001b[38;5;241m.\u001b[39mtensor(tokens)\n\u001b[0;32m    245\u001b[0m \u001b[38;5;28;01mreturn\u001b[39;00m result\n",
      "\u001b[1;31mRuntimeError\u001b[0m: Input Computed tomography (CT) of the chest. Numerous enlarged lymph nodes can be seen within the mediastinum. The largest is in the sub-carinal area measuring 3.1 cm x 4.0 cm. The second largest is in the right peritracheal area measuring 2.1 cm x 2.6 cm. Enlarged lymph nodes are also seen within each hilum, left greater than right. is too long for context length 77"
     ]
    }
   ],
   "source": [
    "# Training loop\n",
    "num_epochs = 10\n",
    "for epoch in range(num_epochs):\n",
    "    model.train()\n",
    "    total_loss = 0\n",
    "    for images, texts in dataloader:\n",
    "        images = images.to(device)\n",
    "        texts = clip.tokenize(texts).to(device)\n",
    "        \n",
    "        optimizer.zero_grad()\n",
    "        logits_per_image, logits_per_text = model(images, texts)\n",
    "        ground_truth = torch.arange(len(images), device=device)\n",
    "        loss = (torch.nn.CrossEntropyLoss()(logits_per_image, ground_truth) +\n",
    "                torch.nn.CrossEntropyLoss()(logits_per_text, ground_truth)) / 2\n",
    "        loss.backward()\n",
    "        optimizer.step()\n",
    "        \n",
    "        total_loss += loss.item()\n",
    "    \n",
    "    print(f\"Epoch {epoch+1}/{num_epochs}, Loss: {total_loss / len(dataloader)}\")\n",
    "\n",
    "# Save the model\n",
    "torch.save(model.state_dict(), 'clip_roco2.pth')"
   ]
  },
  {
   "cell_type": "code",
   "execution_count": null,
   "id": "3c7c1b75-0f5f-4bc8-b2f5-adbea1a4463b",
   "metadata": {},
   "outputs": [],
   "source": []
  }
 ],
 "metadata": {
  "kernelspec": {
   "display_name": "Python 3 (ipykernel)",
   "language": "python",
   "name": "python3"
  },
  "language_info": {
   "codemirror_mode": {
    "name": "ipython",
    "version": 3
   },
   "file_extension": ".py",
   "mimetype": "text/x-python",
   "name": "python",
   "nbconvert_exporter": "python",
   "pygments_lexer": "ipython3",
   "version": "3.11.7"
  }
 },
 "nbformat": 4,
 "nbformat_minor": 5
}
